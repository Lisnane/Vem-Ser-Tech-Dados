{
  "nbformat": 4,
  "nbformat_minor": 0,
  "metadata": {
    "colab": {
      "provenance": []
    },
    "kernelspec": {
      "name": "python3",
      "display_name": "Python 3"
    },
    "language_info": {
      "name": "python"
    }
  },
  "cells": [
    {
      "cell_type": "markdown",
      "source": [
        "# Vem Ser Tech | Dados - Turma 1105\n",
        "## Projeto Final - Módulo de Estatística\n",
        "\n",
        "##### Alunos: Alan Henrique C. Silva, Iago Fonseca M. Pereira, Lisnane Vitória de Oliveira, Márcia Oliveira, Tamira Aboganem, Wilza V. da Silva\n",
        "\n"
      ],
      "metadata": {
        "id": "MoIBk52b6ih6"
      }
    },
    {
      "cell_type": "markdown",
      "source": [
        "### Introdução - Desvendando os Números da Sorte"
      ],
      "metadata": {
        "id": "RYIpseLt6lbT"
      }
    },
    {
      "cell_type": "markdown",
      "source": [
        "\n",
        "\n",
        "Neste projeto de estatística, mergulhamos em um conjunto de dados intrigante, revelando segredos por trás dos sorteios de uma loteria. Começamos descrevendo e compreendendo as variáveis, importando as bibliotecas necessárias e realizando a visualização e limpeza dos dados. Em seguida, exploramos a estatística descritiva para entender padrões e tendências. Criamos visualizações gráficas para dar vida aos dados e calculamos probabilidades para iluminar as chances de diferentes eventos ocorrerem. Assim, desvendamos o mistério por trás dos números da sorte, deixando um legado de descobertas e insights para futuras investigações."
      ],
      "metadata": {
        "id": "QJfoJSM7nYFQ"
      }
    },
    {
      "cell_type": "markdown",
      "source": [
        "###  Descrição das Variáveis"
      ],
      "metadata": {
        "id": "sg7ZwUYH6lQq"
      }
    },
    {
      "cell_type": "markdown",
      "source": [
        "- Qualitativa Nominal:\n",
        "\n",
        "**Concurso:** Representa o número do concurso da Mega Sena. Não há uma ordem específica entre os números dos concursos, apenas os identifica de forma única.\n",
        "\n",
        "- Quantitativa Discreta:\n",
        "\n",
        "**Bola1, Bola2, Bola3, Bola4, Bola5, Bola6:** Representam os números sorteados em cada bola. São discretas porque são valores individuais e separados, que podem ser contados e enumerados.\n",
        "\n",
        "- Quantitativa Contínua:\n",
        "\n",
        "**Data do Sorteio:** Pode ser considerada uma variável quantitativa contínua se tratada temporalmente. As datas podem ser medidas em uma escala de tempo contínua, onde os valores podem ser fracionários e podem variar de forma contínua."
      ],
      "metadata": {
        "id": "egVJXSb_GwHT"
      }
    },
    {
      "cell_type": "markdown",
      "source": [
        "### Realizando as importações necessárias:"
      ],
      "metadata": {
        "id": "uGEKN25266gk"
      }
    },
    {
      "cell_type": "code",
      "source": [
        "import pandas as pd\n",
        "import numpy as np\n",
        "import matplotlib.pyplot as plt\n",
        "import seaborn as sns\n",
        "from scipy.stats import norm\n",
        "from scipy.stats import ttest_1samp\n",
        "from sklearn.model_selection import train_test_split\n",
        "from sklearn.ensemble import RandomForestRegressor\n",
        "from sklearn.metrics import mean_squared_error\n",
        "from collections import Counter\n"
      ],
      "metadata": {
        "id": "K5cNzsNK6kuk"
      },
      "execution_count": 43,
      "outputs": []
    },
    {
      "cell_type": "markdown",
      "source": [
        "### Vizualização Limpeza da Base de Dados\n",
        "\n",
        "Vamos verificar se existe algum valor ausente ou inconsistentes que precisam ser tratados, vamos iniciar realizando o carregamento do conjunto de dados e em seguida verificar se há algum valor ausente."
      ],
      "metadata": {
        "id": "rlNRKUsW8Z8g"
      }
    },
    {
      "cell_type": "markdown",
      "source": [
        "Carregando o dataset:"
      ],
      "metadata": {
        "id": "MSd32Ne_DBKX"
      }
    },
    {
      "cell_type": "code",
      "source": [
        "mega_sena = pd.read_csv('mega_sena.csv')\n"
      ],
      "metadata": {
        "id": "-guQGQfP8gY6"
      },
      "execution_count": 5,
      "outputs": []
    },
    {
      "cell_type": "markdown",
      "source": [
        "Visualizando as primeiras 5 linhas do dataset"
      ],
      "metadata": {
        "id": "x8mWPxAAAzV3"
      }
    },
    {
      "cell_type": "code",
      "source": [
        "mega_sena.head()"
      ],
      "metadata": {
        "colab": {
          "base_uri": "https://localhost:8080/",
          "height": 206
        },
        "id": "L5pcVQTx7kWa",
        "outputId": "dfcde82c-614f-4df9-9095-c546bf984bee"
      },
      "execution_count": 6,
      "outputs": [
        {
          "output_type": "execute_result",
          "data": {
            "text/plain": [
              "   Concurso Data do Sorteio  Bola1  Bola2  Bola3  Bola4  Bola5  Bola6\n",
              "0       1.0      11/03/1996      4      5     30     33     41     52\n",
              "1       2.0      18/03/1996      9     37     39     41     43     49\n",
              "2       3.0      25/03/1996     10     11     29     30     36     47\n",
              "3       4.0      01/04/1996      1      5      6     27     42     59\n",
              "4       5.0      08/04/1996      1      2      6     16     19     46"
            ],
            "text/html": [
              "\n",
              "  <div id=\"df-6582aed0-2205-4fd6-91e6-739b523d6c35\" class=\"colab-df-container\">\n",
              "    <div>\n",
              "<style scoped>\n",
              "    .dataframe tbody tr th:only-of-type {\n",
              "        vertical-align: middle;\n",
              "    }\n",
              "\n",
              "    .dataframe tbody tr th {\n",
              "        vertical-align: top;\n",
              "    }\n",
              "\n",
              "    .dataframe thead th {\n",
              "        text-align: right;\n",
              "    }\n",
              "</style>\n",
              "<table border=\"1\" class=\"dataframe\">\n",
              "  <thead>\n",
              "    <tr style=\"text-align: right;\">\n",
              "      <th></th>\n",
              "      <th>Concurso</th>\n",
              "      <th>Data do Sorteio</th>\n",
              "      <th>Bola1</th>\n",
              "      <th>Bola2</th>\n",
              "      <th>Bola3</th>\n",
              "      <th>Bola4</th>\n",
              "      <th>Bola5</th>\n",
              "      <th>Bola6</th>\n",
              "    </tr>\n",
              "  </thead>\n",
              "  <tbody>\n",
              "    <tr>\n",
              "      <th>0</th>\n",
              "      <td>1.0</td>\n",
              "      <td>11/03/1996</td>\n",
              "      <td>4</td>\n",
              "      <td>5</td>\n",
              "      <td>30</td>\n",
              "      <td>33</td>\n",
              "      <td>41</td>\n",
              "      <td>52</td>\n",
              "    </tr>\n",
              "    <tr>\n",
              "      <th>1</th>\n",
              "      <td>2.0</td>\n",
              "      <td>18/03/1996</td>\n",
              "      <td>9</td>\n",
              "      <td>37</td>\n",
              "      <td>39</td>\n",
              "      <td>41</td>\n",
              "      <td>43</td>\n",
              "      <td>49</td>\n",
              "    </tr>\n",
              "    <tr>\n",
              "      <th>2</th>\n",
              "      <td>3.0</td>\n",
              "      <td>25/03/1996</td>\n",
              "      <td>10</td>\n",
              "      <td>11</td>\n",
              "      <td>29</td>\n",
              "      <td>30</td>\n",
              "      <td>36</td>\n",
              "      <td>47</td>\n",
              "    </tr>\n",
              "    <tr>\n",
              "      <th>3</th>\n",
              "      <td>4.0</td>\n",
              "      <td>01/04/1996</td>\n",
              "      <td>1</td>\n",
              "      <td>5</td>\n",
              "      <td>6</td>\n",
              "      <td>27</td>\n",
              "      <td>42</td>\n",
              "      <td>59</td>\n",
              "    </tr>\n",
              "    <tr>\n",
              "      <th>4</th>\n",
              "      <td>5.0</td>\n",
              "      <td>08/04/1996</td>\n",
              "      <td>1</td>\n",
              "      <td>2</td>\n",
              "      <td>6</td>\n",
              "      <td>16</td>\n",
              "      <td>19</td>\n",
              "      <td>46</td>\n",
              "    </tr>\n",
              "  </tbody>\n",
              "</table>\n",
              "</div>\n",
              "    <div class=\"colab-df-buttons\">\n",
              "\n",
              "  <div class=\"colab-df-container\">\n",
              "    <button class=\"colab-df-convert\" onclick=\"convertToInteractive('df-6582aed0-2205-4fd6-91e6-739b523d6c35')\"\n",
              "            title=\"Convert this dataframe to an interactive table.\"\n",
              "            style=\"display:none;\">\n",
              "\n",
              "  <svg xmlns=\"http://www.w3.org/2000/svg\" height=\"24px\" viewBox=\"0 -960 960 960\">\n",
              "    <path d=\"M120-120v-720h720v720H120Zm60-500h600v-160H180v160Zm220 220h160v-160H400v160Zm0 220h160v-160H400v160ZM180-400h160v-160H180v160Zm440 0h160v-160H620v160ZM180-180h160v-160H180v160Zm440 0h160v-160H620v160Z\"/>\n",
              "  </svg>\n",
              "    </button>\n",
              "\n",
              "  <style>\n",
              "    .colab-df-container {\n",
              "      display:flex;\n",
              "      gap: 12px;\n",
              "    }\n",
              "\n",
              "    .colab-df-convert {\n",
              "      background-color: #E8F0FE;\n",
              "      border: none;\n",
              "      border-radius: 50%;\n",
              "      cursor: pointer;\n",
              "      display: none;\n",
              "      fill: #1967D2;\n",
              "      height: 32px;\n",
              "      padding: 0 0 0 0;\n",
              "      width: 32px;\n",
              "    }\n",
              "\n",
              "    .colab-df-convert:hover {\n",
              "      background-color: #E2EBFA;\n",
              "      box-shadow: 0px 1px 2px rgba(60, 64, 67, 0.3), 0px 1px 3px 1px rgba(60, 64, 67, 0.15);\n",
              "      fill: #174EA6;\n",
              "    }\n",
              "\n",
              "    .colab-df-buttons div {\n",
              "      margin-bottom: 4px;\n",
              "    }\n",
              "\n",
              "    [theme=dark] .colab-df-convert {\n",
              "      background-color: #3B4455;\n",
              "      fill: #D2E3FC;\n",
              "    }\n",
              "\n",
              "    [theme=dark] .colab-df-convert:hover {\n",
              "      background-color: #434B5C;\n",
              "      box-shadow: 0px 1px 3px 1px rgba(0, 0, 0, 0.15);\n",
              "      filter: drop-shadow(0px 1px 2px rgba(0, 0, 0, 0.3));\n",
              "      fill: #FFFFFF;\n",
              "    }\n",
              "  </style>\n",
              "\n",
              "    <script>\n",
              "      const buttonEl =\n",
              "        document.querySelector('#df-6582aed0-2205-4fd6-91e6-739b523d6c35 button.colab-df-convert');\n",
              "      buttonEl.style.display =\n",
              "        google.colab.kernel.accessAllowed ? 'block' : 'none';\n",
              "\n",
              "      async function convertToInteractive(key) {\n",
              "        const element = document.querySelector('#df-6582aed0-2205-4fd6-91e6-739b523d6c35');\n",
              "        const dataTable =\n",
              "          await google.colab.kernel.invokeFunction('convertToInteractive',\n",
              "                                                    [key], {});\n",
              "        if (!dataTable) return;\n",
              "\n",
              "        const docLinkHtml = 'Like what you see? Visit the ' +\n",
              "          '<a target=\"_blank\" href=https://colab.research.google.com/notebooks/data_table.ipynb>data table notebook</a>'\n",
              "          + ' to learn more about interactive tables.';\n",
              "        element.innerHTML = '';\n",
              "        dataTable['output_type'] = 'display_data';\n",
              "        await google.colab.output.renderOutput(dataTable, element);\n",
              "        const docLink = document.createElement('div');\n",
              "        docLink.innerHTML = docLinkHtml;\n",
              "        element.appendChild(docLink);\n",
              "      }\n",
              "    </script>\n",
              "  </div>\n",
              "\n",
              "\n",
              "<div id=\"df-cb0253fc-782d-44f5-9820-9c3972146574\">\n",
              "  <button class=\"colab-df-quickchart\" onclick=\"quickchart('df-cb0253fc-782d-44f5-9820-9c3972146574')\"\n",
              "            title=\"Suggest charts\"\n",
              "            style=\"display:none;\">\n",
              "\n",
              "<svg xmlns=\"http://www.w3.org/2000/svg\" height=\"24px\"viewBox=\"0 0 24 24\"\n",
              "     width=\"24px\">\n",
              "    <g>\n",
              "        <path d=\"M19 3H5c-1.1 0-2 .9-2 2v14c0 1.1.9 2 2 2h14c1.1 0 2-.9 2-2V5c0-1.1-.9-2-2-2zM9 17H7v-7h2v7zm4 0h-2V7h2v10zm4 0h-2v-4h2v4z\"/>\n",
              "    </g>\n",
              "</svg>\n",
              "  </button>\n",
              "\n",
              "<style>\n",
              "  .colab-df-quickchart {\n",
              "      --bg-color: #E8F0FE;\n",
              "      --fill-color: #1967D2;\n",
              "      --hover-bg-color: #E2EBFA;\n",
              "      --hover-fill-color: #174EA6;\n",
              "      --disabled-fill-color: #AAA;\n",
              "      --disabled-bg-color: #DDD;\n",
              "  }\n",
              "\n",
              "  [theme=dark] .colab-df-quickchart {\n",
              "      --bg-color: #3B4455;\n",
              "      --fill-color: #D2E3FC;\n",
              "      --hover-bg-color: #434B5C;\n",
              "      --hover-fill-color: #FFFFFF;\n",
              "      --disabled-bg-color: #3B4455;\n",
              "      --disabled-fill-color: #666;\n",
              "  }\n",
              "\n",
              "  .colab-df-quickchart {\n",
              "    background-color: var(--bg-color);\n",
              "    border: none;\n",
              "    border-radius: 50%;\n",
              "    cursor: pointer;\n",
              "    display: none;\n",
              "    fill: var(--fill-color);\n",
              "    height: 32px;\n",
              "    padding: 0;\n",
              "    width: 32px;\n",
              "  }\n",
              "\n",
              "  .colab-df-quickchart:hover {\n",
              "    background-color: var(--hover-bg-color);\n",
              "    box-shadow: 0 1px 2px rgba(60, 64, 67, 0.3), 0 1px 3px 1px rgba(60, 64, 67, 0.15);\n",
              "    fill: var(--button-hover-fill-color);\n",
              "  }\n",
              "\n",
              "  .colab-df-quickchart-complete:disabled,\n",
              "  .colab-df-quickchart-complete:disabled:hover {\n",
              "    background-color: var(--disabled-bg-color);\n",
              "    fill: var(--disabled-fill-color);\n",
              "    box-shadow: none;\n",
              "  }\n",
              "\n",
              "  .colab-df-spinner {\n",
              "    border: 2px solid var(--fill-color);\n",
              "    border-color: transparent;\n",
              "    border-bottom-color: var(--fill-color);\n",
              "    animation:\n",
              "      spin 1s steps(1) infinite;\n",
              "  }\n",
              "\n",
              "  @keyframes spin {\n",
              "    0% {\n",
              "      border-color: transparent;\n",
              "      border-bottom-color: var(--fill-color);\n",
              "      border-left-color: var(--fill-color);\n",
              "    }\n",
              "    20% {\n",
              "      border-color: transparent;\n",
              "      border-left-color: var(--fill-color);\n",
              "      border-top-color: var(--fill-color);\n",
              "    }\n",
              "    30% {\n",
              "      border-color: transparent;\n",
              "      border-left-color: var(--fill-color);\n",
              "      border-top-color: var(--fill-color);\n",
              "      border-right-color: var(--fill-color);\n",
              "    }\n",
              "    40% {\n",
              "      border-color: transparent;\n",
              "      border-right-color: var(--fill-color);\n",
              "      border-top-color: var(--fill-color);\n",
              "    }\n",
              "    60% {\n",
              "      border-color: transparent;\n",
              "      border-right-color: var(--fill-color);\n",
              "    }\n",
              "    80% {\n",
              "      border-color: transparent;\n",
              "      border-right-color: var(--fill-color);\n",
              "      border-bottom-color: var(--fill-color);\n",
              "    }\n",
              "    90% {\n",
              "      border-color: transparent;\n",
              "      border-bottom-color: var(--fill-color);\n",
              "    }\n",
              "  }\n",
              "</style>\n",
              "\n",
              "  <script>\n",
              "    async function quickchart(key) {\n",
              "      const quickchartButtonEl =\n",
              "        document.querySelector('#' + key + ' button');\n",
              "      quickchartButtonEl.disabled = true;  // To prevent multiple clicks.\n",
              "      quickchartButtonEl.classList.add('colab-df-spinner');\n",
              "      try {\n",
              "        const charts = await google.colab.kernel.invokeFunction(\n",
              "            'suggestCharts', [key], {});\n",
              "      } catch (error) {\n",
              "        console.error('Error during call to suggestCharts:', error);\n",
              "      }\n",
              "      quickchartButtonEl.classList.remove('colab-df-spinner');\n",
              "      quickchartButtonEl.classList.add('colab-df-quickchart-complete');\n",
              "    }\n",
              "    (() => {\n",
              "      let quickchartButtonEl =\n",
              "        document.querySelector('#df-cb0253fc-782d-44f5-9820-9c3972146574 button');\n",
              "      quickchartButtonEl.style.display =\n",
              "        google.colab.kernel.accessAllowed ? 'block' : 'none';\n",
              "    })();\n",
              "  </script>\n",
              "</div>\n",
              "\n",
              "    </div>\n",
              "  </div>\n"
            ],
            "application/vnd.google.colaboratory.intrinsic+json": {
              "type": "dataframe",
              "variable_name": "mega_sena",
              "summary": "{\n  \"name\": \"mega_sena\",\n  \"rows\": 2696,\n  \"fields\": [\n    {\n      \"column\": \"Concurso\",\n      \"properties\": {\n        \"dtype\": \"number\",\n        \"std\": 778.123811913417,\n        \"min\": 1.0,\n        \"max\": 2695.0,\n        \"num_unique_values\": 2695,\n        \"samples\": [\n          369.0,\n          1419.0,\n          1766.0\n        ],\n        \"semantic_type\": \"\",\n        \"description\": \"\"\n      }\n    },\n    {\n      \"column\": \"Data do Sorteio\",\n      \"properties\": {\n        \"dtype\": \"object\",\n        \"num_unique_values\": 2695,\n        \"samples\": [\n          \"12/06/2002\",\n          \"25/08/2012\",\n          \"02/12/2015\"\n        ],\n        \"semantic_type\": \"\",\n        \"description\": \"\"\n      }\n    },\n    {\n      \"column\": \"Bola1\",\n      \"properties\": {\n        \"dtype\": \"number\",\n        \"std\": 8,\n        \"min\": 1,\n        \"max\": 258,\n        \"num_unique_values\": 44,\n        \"samples\": [\n          43,\n          32,\n          22\n        ],\n        \"semantic_type\": \"\",\n        \"description\": \"\"\n      }\n    },\n    {\n      \"column\": \"Bola2\",\n      \"properties\": {\n        \"dtype\": \"number\",\n        \"std\": 9,\n        \"min\": 2,\n        \"max\": 57,\n        \"num_unique_values\": 49,\n        \"samples\": [\n          27,\n          46,\n          51\n        ],\n        \"semantic_type\": \"\",\n        \"description\": \"\"\n      }\n    },\n    {\n      \"column\": \"Bola3\",\n      \"properties\": {\n        \"dtype\": \"number\",\n        \"std\": 9,\n        \"min\": 3,\n        \"max\": 56,\n        \"num_unique_values\": 53,\n        \"samples\": [\n          50,\n          44,\n          49\n        ],\n        \"semantic_type\": \"\",\n        \"description\": \"\"\n      }\n    },\n    {\n      \"column\": \"Bola4\",\n      \"properties\": {\n        \"dtype\": \"number\",\n        \"std\": 9,\n        \"min\": 8,\n        \"max\": 94,\n        \"num_unique_values\": 52,\n        \"samples\": [\n          54,\n          17,\n          56\n        ],\n        \"semantic_type\": \"\",\n        \"description\": \"\"\n      }\n    },\n    {\n      \"column\": \"Bola5\",\n      \"properties\": {\n        \"dtype\": \"number\",\n        \"std\": 9,\n        \"min\": 11,\n        \"max\": 59,\n        \"num_unique_values\": 48,\n        \"samples\": [\n          34,\n          18,\n          51\n        ],\n        \"semantic_type\": \"\",\n        \"description\": \"\"\n      }\n    },\n    {\n      \"column\": \"Bola6\",\n      \"properties\": {\n        \"dtype\": \"number\",\n        \"std\": 8,\n        \"min\": 22,\n        \"max\": 255,\n        \"num_unique_values\": 39,\n        \"samples\": [\n          29,\n          25,\n          46\n        ],\n        \"semantic_type\": \"\",\n        \"description\": \"\"\n      }\n    }\n  ]\n}"
            }
          },
          "metadata": {},
          "execution_count": 6
        }
      ]
    },
    {
      "cell_type": "markdown",
      "source": [
        "Visualizando as ultimas 5 linhas do dataset"
      ],
      "metadata": {
        "id": "LwKmjOf_A_kU"
      }
    },
    {
      "cell_type": "code",
      "source": [
        "mega_sena.tail()"
      ],
      "metadata": {
        "colab": {
          "base_uri": "https://localhost:8080/",
          "height": 206
        },
        "id": "wydjPqXPBFQh",
        "outputId": "3bec1310-7fc0-4b32-9709-44094ca6aba3"
      },
      "execution_count": 7,
      "outputs": [
        {
          "output_type": "execute_result",
          "data": {
            "text/plain": [
              "      Concurso Data do Sorteio  Bola1  Bola2  Bola3  Bola4  Bola5  Bola6\n",
              "2691    2692.0      24/02/2024      9     33     45     55     56     59\n",
              "2692    2693.0      27/02/2024     11     29     44     45     46     50\n",
              "2693    2694.0      29/02/2024      7     20     22     29     41     58\n",
              "2694    2695.0      02/03/2024     15     17     32     33     34     40\n",
              "2695       NaN             NaN    258     57     51     94     15    255"
            ],
            "text/html": [
              "\n",
              "  <div id=\"df-8f4c1d27-95fe-4d4a-91a8-9b428a5e87a4\" class=\"colab-df-container\">\n",
              "    <div>\n",
              "<style scoped>\n",
              "    .dataframe tbody tr th:only-of-type {\n",
              "        vertical-align: middle;\n",
              "    }\n",
              "\n",
              "    .dataframe tbody tr th {\n",
              "        vertical-align: top;\n",
              "    }\n",
              "\n",
              "    .dataframe thead th {\n",
              "        text-align: right;\n",
              "    }\n",
              "</style>\n",
              "<table border=\"1\" class=\"dataframe\">\n",
              "  <thead>\n",
              "    <tr style=\"text-align: right;\">\n",
              "      <th></th>\n",
              "      <th>Concurso</th>\n",
              "      <th>Data do Sorteio</th>\n",
              "      <th>Bola1</th>\n",
              "      <th>Bola2</th>\n",
              "      <th>Bola3</th>\n",
              "      <th>Bola4</th>\n",
              "      <th>Bola5</th>\n",
              "      <th>Bola6</th>\n",
              "    </tr>\n",
              "  </thead>\n",
              "  <tbody>\n",
              "    <tr>\n",
              "      <th>2691</th>\n",
              "      <td>2692.0</td>\n",
              "      <td>24/02/2024</td>\n",
              "      <td>9</td>\n",
              "      <td>33</td>\n",
              "      <td>45</td>\n",
              "      <td>55</td>\n",
              "      <td>56</td>\n",
              "      <td>59</td>\n",
              "    </tr>\n",
              "    <tr>\n",
              "      <th>2692</th>\n",
              "      <td>2693.0</td>\n",
              "      <td>27/02/2024</td>\n",
              "      <td>11</td>\n",
              "      <td>29</td>\n",
              "      <td>44</td>\n",
              "      <td>45</td>\n",
              "      <td>46</td>\n",
              "      <td>50</td>\n",
              "    </tr>\n",
              "    <tr>\n",
              "      <th>2693</th>\n",
              "      <td>2694.0</td>\n",
              "      <td>29/02/2024</td>\n",
              "      <td>7</td>\n",
              "      <td>20</td>\n",
              "      <td>22</td>\n",
              "      <td>29</td>\n",
              "      <td>41</td>\n",
              "      <td>58</td>\n",
              "    </tr>\n",
              "    <tr>\n",
              "      <th>2694</th>\n",
              "      <td>2695.0</td>\n",
              "      <td>02/03/2024</td>\n",
              "      <td>15</td>\n",
              "      <td>17</td>\n",
              "      <td>32</td>\n",
              "      <td>33</td>\n",
              "      <td>34</td>\n",
              "      <td>40</td>\n",
              "    </tr>\n",
              "    <tr>\n",
              "      <th>2695</th>\n",
              "      <td>NaN</td>\n",
              "      <td>NaN</td>\n",
              "      <td>258</td>\n",
              "      <td>57</td>\n",
              "      <td>51</td>\n",
              "      <td>94</td>\n",
              "      <td>15</td>\n",
              "      <td>255</td>\n",
              "    </tr>\n",
              "  </tbody>\n",
              "</table>\n",
              "</div>\n",
              "    <div class=\"colab-df-buttons\">\n",
              "\n",
              "  <div class=\"colab-df-container\">\n",
              "    <button class=\"colab-df-convert\" onclick=\"convertToInteractive('df-8f4c1d27-95fe-4d4a-91a8-9b428a5e87a4')\"\n",
              "            title=\"Convert this dataframe to an interactive table.\"\n",
              "            style=\"display:none;\">\n",
              "\n",
              "  <svg xmlns=\"http://www.w3.org/2000/svg\" height=\"24px\" viewBox=\"0 -960 960 960\">\n",
              "    <path d=\"M120-120v-720h720v720H120Zm60-500h600v-160H180v160Zm220 220h160v-160H400v160Zm0 220h160v-160H400v160ZM180-400h160v-160H180v160Zm440 0h160v-160H620v160ZM180-180h160v-160H180v160Zm440 0h160v-160H620v160Z\"/>\n",
              "  </svg>\n",
              "    </button>\n",
              "\n",
              "  <style>\n",
              "    .colab-df-container {\n",
              "      display:flex;\n",
              "      gap: 12px;\n",
              "    }\n",
              "\n",
              "    .colab-df-convert {\n",
              "      background-color: #E8F0FE;\n",
              "      border: none;\n",
              "      border-radius: 50%;\n",
              "      cursor: pointer;\n",
              "      display: none;\n",
              "      fill: #1967D2;\n",
              "      height: 32px;\n",
              "      padding: 0 0 0 0;\n",
              "      width: 32px;\n",
              "    }\n",
              "\n",
              "    .colab-df-convert:hover {\n",
              "      background-color: #E2EBFA;\n",
              "      box-shadow: 0px 1px 2px rgba(60, 64, 67, 0.3), 0px 1px 3px 1px rgba(60, 64, 67, 0.15);\n",
              "      fill: #174EA6;\n",
              "    }\n",
              "\n",
              "    .colab-df-buttons div {\n",
              "      margin-bottom: 4px;\n",
              "    }\n",
              "\n",
              "    [theme=dark] .colab-df-convert {\n",
              "      background-color: #3B4455;\n",
              "      fill: #D2E3FC;\n",
              "    }\n",
              "\n",
              "    [theme=dark] .colab-df-convert:hover {\n",
              "      background-color: #434B5C;\n",
              "      box-shadow: 0px 1px 3px 1px rgba(0, 0, 0, 0.15);\n",
              "      filter: drop-shadow(0px 1px 2px rgba(0, 0, 0, 0.3));\n",
              "      fill: #FFFFFF;\n",
              "    }\n",
              "  </style>\n",
              "\n",
              "    <script>\n",
              "      const buttonEl =\n",
              "        document.querySelector('#df-8f4c1d27-95fe-4d4a-91a8-9b428a5e87a4 button.colab-df-convert');\n",
              "      buttonEl.style.display =\n",
              "        google.colab.kernel.accessAllowed ? 'block' : 'none';\n",
              "\n",
              "      async function convertToInteractive(key) {\n",
              "        const element = document.querySelector('#df-8f4c1d27-95fe-4d4a-91a8-9b428a5e87a4');\n",
              "        const dataTable =\n",
              "          await google.colab.kernel.invokeFunction('convertToInteractive',\n",
              "                                                    [key], {});\n",
              "        if (!dataTable) return;\n",
              "\n",
              "        const docLinkHtml = 'Like what you see? Visit the ' +\n",
              "          '<a target=\"_blank\" href=https://colab.research.google.com/notebooks/data_table.ipynb>data table notebook</a>'\n",
              "          + ' to learn more about interactive tables.';\n",
              "        element.innerHTML = '';\n",
              "        dataTable['output_type'] = 'display_data';\n",
              "        await google.colab.output.renderOutput(dataTable, element);\n",
              "        const docLink = document.createElement('div');\n",
              "        docLink.innerHTML = docLinkHtml;\n",
              "        element.appendChild(docLink);\n",
              "      }\n",
              "    </script>\n",
              "  </div>\n",
              "\n",
              "\n",
              "<div id=\"df-2acb62ad-abc4-403e-9e42-723446bff05b\">\n",
              "  <button class=\"colab-df-quickchart\" onclick=\"quickchart('df-2acb62ad-abc4-403e-9e42-723446bff05b')\"\n",
              "            title=\"Suggest charts\"\n",
              "            style=\"display:none;\">\n",
              "\n",
              "<svg xmlns=\"http://www.w3.org/2000/svg\" height=\"24px\"viewBox=\"0 0 24 24\"\n",
              "     width=\"24px\">\n",
              "    <g>\n",
              "        <path d=\"M19 3H5c-1.1 0-2 .9-2 2v14c0 1.1.9 2 2 2h14c1.1 0 2-.9 2-2V5c0-1.1-.9-2-2-2zM9 17H7v-7h2v7zm4 0h-2V7h2v10zm4 0h-2v-4h2v4z\"/>\n",
              "    </g>\n",
              "</svg>\n",
              "  </button>\n",
              "\n",
              "<style>\n",
              "  .colab-df-quickchart {\n",
              "      --bg-color: #E8F0FE;\n",
              "      --fill-color: #1967D2;\n",
              "      --hover-bg-color: #E2EBFA;\n",
              "      --hover-fill-color: #174EA6;\n",
              "      --disabled-fill-color: #AAA;\n",
              "      --disabled-bg-color: #DDD;\n",
              "  }\n",
              "\n",
              "  [theme=dark] .colab-df-quickchart {\n",
              "      --bg-color: #3B4455;\n",
              "      --fill-color: #D2E3FC;\n",
              "      --hover-bg-color: #434B5C;\n",
              "      --hover-fill-color: #FFFFFF;\n",
              "      --disabled-bg-color: #3B4455;\n",
              "      --disabled-fill-color: #666;\n",
              "  }\n",
              "\n",
              "  .colab-df-quickchart {\n",
              "    background-color: var(--bg-color);\n",
              "    border: none;\n",
              "    border-radius: 50%;\n",
              "    cursor: pointer;\n",
              "    display: none;\n",
              "    fill: var(--fill-color);\n",
              "    height: 32px;\n",
              "    padding: 0;\n",
              "    width: 32px;\n",
              "  }\n",
              "\n",
              "  .colab-df-quickchart:hover {\n",
              "    background-color: var(--hover-bg-color);\n",
              "    box-shadow: 0 1px 2px rgba(60, 64, 67, 0.3), 0 1px 3px 1px rgba(60, 64, 67, 0.15);\n",
              "    fill: var(--button-hover-fill-color);\n",
              "  }\n",
              "\n",
              "  .colab-df-quickchart-complete:disabled,\n",
              "  .colab-df-quickchart-complete:disabled:hover {\n",
              "    background-color: var(--disabled-bg-color);\n",
              "    fill: var(--disabled-fill-color);\n",
              "    box-shadow: none;\n",
              "  }\n",
              "\n",
              "  .colab-df-spinner {\n",
              "    border: 2px solid var(--fill-color);\n",
              "    border-color: transparent;\n",
              "    border-bottom-color: var(--fill-color);\n",
              "    animation:\n",
              "      spin 1s steps(1) infinite;\n",
              "  }\n",
              "\n",
              "  @keyframes spin {\n",
              "    0% {\n",
              "      border-color: transparent;\n",
              "      border-bottom-color: var(--fill-color);\n",
              "      border-left-color: var(--fill-color);\n",
              "    }\n",
              "    20% {\n",
              "      border-color: transparent;\n",
              "      border-left-color: var(--fill-color);\n",
              "      border-top-color: var(--fill-color);\n",
              "    }\n",
              "    30% {\n",
              "      border-color: transparent;\n",
              "      border-left-color: var(--fill-color);\n",
              "      border-top-color: var(--fill-color);\n",
              "      border-right-color: var(--fill-color);\n",
              "    }\n",
              "    40% {\n",
              "      border-color: transparent;\n",
              "      border-right-color: var(--fill-color);\n",
              "      border-top-color: var(--fill-color);\n",
              "    }\n",
              "    60% {\n",
              "      border-color: transparent;\n",
              "      border-right-color: var(--fill-color);\n",
              "    }\n",
              "    80% {\n",
              "      border-color: transparent;\n",
              "      border-right-color: var(--fill-color);\n",
              "      border-bottom-color: var(--fill-color);\n",
              "    }\n",
              "    90% {\n",
              "      border-color: transparent;\n",
              "      border-bottom-color: var(--fill-color);\n",
              "    }\n",
              "  }\n",
              "</style>\n",
              "\n",
              "  <script>\n",
              "    async function quickchart(key) {\n",
              "      const quickchartButtonEl =\n",
              "        document.querySelector('#' + key + ' button');\n",
              "      quickchartButtonEl.disabled = true;  // To prevent multiple clicks.\n",
              "      quickchartButtonEl.classList.add('colab-df-spinner');\n",
              "      try {\n",
              "        const charts = await google.colab.kernel.invokeFunction(\n",
              "            'suggestCharts', [key], {});\n",
              "      } catch (error) {\n",
              "        console.error('Error during call to suggestCharts:', error);\n",
              "      }\n",
              "      quickchartButtonEl.classList.remove('colab-df-spinner');\n",
              "      quickchartButtonEl.classList.add('colab-df-quickchart-complete');\n",
              "    }\n",
              "    (() => {\n",
              "      let quickchartButtonEl =\n",
              "        document.querySelector('#df-2acb62ad-abc4-403e-9e42-723446bff05b button');\n",
              "      quickchartButtonEl.style.display =\n",
              "        google.colab.kernel.accessAllowed ? 'block' : 'none';\n",
              "    })();\n",
              "  </script>\n",
              "</div>\n",
              "\n",
              "    </div>\n",
              "  </div>\n"
            ],
            "application/vnd.google.colaboratory.intrinsic+json": {
              "type": "dataframe",
              "repr_error": "0"
            }
          },
          "metadata": {},
          "execution_count": 7
        }
      ]
    },
    {
      "cell_type": "markdown",
      "source": [
        "Verificando o Número de Linhas e Colunas"
      ],
      "metadata": {
        "id": "lkRYcd0dBKLR"
      }
    },
    {
      "cell_type": "code",
      "source": [
        "linhas, colunas = mega_sena.shape\n",
        "print(f'O dataset possui {linhas} linhas e {colunas} colunas')"
      ],
      "metadata": {
        "colab": {
          "base_uri": "https://localhost:8080/"
        },
        "id": "84xmBDiLBJu4",
        "outputId": "a69ab817-97ae-4396-89cd-eada70ae048a"
      },
      "execution_count": 8,
      "outputs": [
        {
          "output_type": "stream",
          "name": "stdout",
          "text": [
            "O dataset possui 2696 linhas e 8 colunas\n"
          ]
        }
      ]
    },
    {
      "cell_type": "markdown",
      "source": [
        "Agora vamos vizualizar algumas informações sobre o dataset:"
      ],
      "metadata": {
        "id": "cJ_k-SfBCwIP"
      }
    },
    {
      "cell_type": "code",
      "source": [
        "mega_sena.info()"
      ],
      "metadata": {
        "colab": {
          "base_uri": "https://localhost:8080/"
        },
        "id": "a9m5SEI1DJtz",
        "outputId": "097a5c06-7195-4ec5-ad2f-a09edecb9978"
      },
      "execution_count": 9,
      "outputs": [
        {
          "output_type": "stream",
          "name": "stdout",
          "text": [
            "<class 'pandas.core.frame.DataFrame'>\n",
            "RangeIndex: 2696 entries, 0 to 2695\n",
            "Data columns (total 8 columns):\n",
            " #   Column           Non-Null Count  Dtype  \n",
            "---  ------           --------------  -----  \n",
            " 0   Concurso         2695 non-null   float64\n",
            " 1   Data do Sorteio  2695 non-null   object \n",
            " 2   Bola1            2696 non-null   int64  \n",
            " 3   Bola2            2696 non-null   int64  \n",
            " 4   Bola3            2696 non-null   int64  \n",
            " 5   Bola4            2696 non-null   int64  \n",
            " 6   Bola5            2696 non-null   int64  \n",
            " 7   Bola6            2696 non-null   int64  \n",
            "dtypes: float64(1), int64(6), object(1)\n",
            "memory usage: 168.6+ KB\n"
          ]
        }
      ]
    },
    {
      "cell_type": "markdown",
      "source": [
        "Verificando a soma dos valores nulos do dataset"
      ],
      "metadata": {
        "id": "pysoJjy8DZsy"
      }
    },
    {
      "cell_type": "code",
      "source": [
        "mega_sena.isnull().sum()"
      ],
      "metadata": {
        "colab": {
          "base_uri": "https://localhost:8080/"
        },
        "id": "uzNhnT4KDWW4",
        "outputId": "70de832a-6836-414d-b6a9-46652464b323"
      },
      "execution_count": 10,
      "outputs": [
        {
          "output_type": "execute_result",
          "data": {
            "text/plain": [
              "Concurso           1\n",
              "Data do Sorteio    1\n",
              "Bola1              0\n",
              "Bola2              0\n",
              "Bola3              0\n",
              "Bola4              0\n",
              "Bola5              0\n",
              "Bola6              0\n",
              "dtype: int64"
            ]
          },
          "metadata": {},
          "execution_count": 10
        }
      ]
    },
    {
      "cell_type": "markdown",
      "source": [
        "É possível verificar que existe uma linha que possui os valores de concurso e data do sorteio nulos, para efeitos do nosso trabalho esta unica linha será desconsiderada. A seguir vamos eliminar esta linha."
      ],
      "metadata": {
        "id": "jEdkTxPzDfIU"
      }
    },
    {
      "cell_type": "code",
      "source": [
        "mega_sena = mega_sena.dropna(subset=['Concurso', 'Data do Sorteio'])\n",
        "print(mega_sena.isnull().sum())"
      ],
      "metadata": {
        "colab": {
          "base_uri": "https://localhost:8080/"
        },
        "id": "EdPLRGlNDfkU",
        "outputId": "08c595a9-9257-4fff-837f-08fec7b52a6b"
      },
      "execution_count": 11,
      "outputs": [
        {
          "output_type": "stream",
          "name": "stdout",
          "text": [
            "Concurso           0\n",
            "Data do Sorteio    0\n",
            "Bola1              0\n",
            "Bola2              0\n",
            "Bola3              0\n",
            "Bola4              0\n",
            "Bola5              0\n",
            "Bola6              0\n",
            "dtype: int64\n"
          ]
        }
      ]
    },
    {
      "cell_type": "markdown",
      "source": [
        "###Estátistica Descretiva (Análise Univariada e Multivariada)\n",
        "\n",
        "Neste item vamos realizar análises estatísticas descritivas de posição das variáveis individualmente e em conjunto para entender padrões e relações.\n",
        "No entanto, nossa opções de análises de posição são limitadas, pois informações como amplitude, variância e desvio padrão podem ser aplicadas a elementos do conjunto, porém não ao conjunto dos dados."
      ],
      "metadata": {
        "id": "5yi8vPKQEUzd"
      }
    },
    {
      "cell_type": "code",
      "source": [
        "mega_sena.describe()"
      ],
      "metadata": {
        "colab": {
          "base_uri": "https://localhost:8080/",
          "height": 300
        },
        "id": "_WMRnUdSE7Gv",
        "outputId": "451fb100-7807-481c-a58c-6a1d44bd429f"
      },
      "execution_count": 12,
      "outputs": [
        {
          "output_type": "execute_result",
          "data": {
            "text/plain": [
              "          Concurso        Bola1        Bola2        Bola3        Bola4  \\\n",
              "count  2695.000000  2695.000000  2695.000000  2695.000000  2695.000000   \n",
              "mean   1348.000000     8.610019    17.341373    26.379592    35.086085   \n",
              "std     778.123812     6.980648     9.131717     9.969193     9.766388   \n",
              "min       1.000000     1.000000     2.000000     3.000000     8.000000   \n",
              "25%     674.500000     3.000000    10.000000    19.000000    28.000000   \n",
              "50%    1348.000000     7.000000    16.000000    26.000000    35.000000   \n",
              "75%    2021.500000    12.000000    23.000000    33.000000    42.000000   \n",
              "max    2695.000000    50.000000    51.000000    56.000000    58.000000   \n",
              "\n",
              "             Bola5        Bola6  \n",
              "count  2695.000000  2695.000000  \n",
              "mean     43.562152    52.176994  \n",
              "std       9.031894     7.001871  \n",
              "min      11.000000    22.000000  \n",
              "25%      38.000000    49.000000  \n",
              "50%      45.000000    54.000000  \n",
              "75%      51.000000    58.000000  \n",
              "max      59.000000    60.000000  "
            ],
            "text/html": [
              "\n",
              "  <div id=\"df-2adf7896-9310-4107-b4f3-8128000590c5\" class=\"colab-df-container\">\n",
              "    <div>\n",
              "<style scoped>\n",
              "    .dataframe tbody tr th:only-of-type {\n",
              "        vertical-align: middle;\n",
              "    }\n",
              "\n",
              "    .dataframe tbody tr th {\n",
              "        vertical-align: top;\n",
              "    }\n",
              "\n",
              "    .dataframe thead th {\n",
              "        text-align: right;\n",
              "    }\n",
              "</style>\n",
              "<table border=\"1\" class=\"dataframe\">\n",
              "  <thead>\n",
              "    <tr style=\"text-align: right;\">\n",
              "      <th></th>\n",
              "      <th>Concurso</th>\n",
              "      <th>Bola1</th>\n",
              "      <th>Bola2</th>\n",
              "      <th>Bola3</th>\n",
              "      <th>Bola4</th>\n",
              "      <th>Bola5</th>\n",
              "      <th>Bola6</th>\n",
              "    </tr>\n",
              "  </thead>\n",
              "  <tbody>\n",
              "    <tr>\n",
              "      <th>count</th>\n",
              "      <td>2695.000000</td>\n",
              "      <td>2695.000000</td>\n",
              "      <td>2695.000000</td>\n",
              "      <td>2695.000000</td>\n",
              "      <td>2695.000000</td>\n",
              "      <td>2695.000000</td>\n",
              "      <td>2695.000000</td>\n",
              "    </tr>\n",
              "    <tr>\n",
              "      <th>mean</th>\n",
              "      <td>1348.000000</td>\n",
              "      <td>8.610019</td>\n",
              "      <td>17.341373</td>\n",
              "      <td>26.379592</td>\n",
              "      <td>35.086085</td>\n",
              "      <td>43.562152</td>\n",
              "      <td>52.176994</td>\n",
              "    </tr>\n",
              "    <tr>\n",
              "      <th>std</th>\n",
              "      <td>778.123812</td>\n",
              "      <td>6.980648</td>\n",
              "      <td>9.131717</td>\n",
              "      <td>9.969193</td>\n",
              "      <td>9.766388</td>\n",
              "      <td>9.031894</td>\n",
              "      <td>7.001871</td>\n",
              "    </tr>\n",
              "    <tr>\n",
              "      <th>min</th>\n",
              "      <td>1.000000</td>\n",
              "      <td>1.000000</td>\n",
              "      <td>2.000000</td>\n",
              "      <td>3.000000</td>\n",
              "      <td>8.000000</td>\n",
              "      <td>11.000000</td>\n",
              "      <td>22.000000</td>\n",
              "    </tr>\n",
              "    <tr>\n",
              "      <th>25%</th>\n",
              "      <td>674.500000</td>\n",
              "      <td>3.000000</td>\n",
              "      <td>10.000000</td>\n",
              "      <td>19.000000</td>\n",
              "      <td>28.000000</td>\n",
              "      <td>38.000000</td>\n",
              "      <td>49.000000</td>\n",
              "    </tr>\n",
              "    <tr>\n",
              "      <th>50%</th>\n",
              "      <td>1348.000000</td>\n",
              "      <td>7.000000</td>\n",
              "      <td>16.000000</td>\n",
              "      <td>26.000000</td>\n",
              "      <td>35.000000</td>\n",
              "      <td>45.000000</td>\n",
              "      <td>54.000000</td>\n",
              "    </tr>\n",
              "    <tr>\n",
              "      <th>75%</th>\n",
              "      <td>2021.500000</td>\n",
              "      <td>12.000000</td>\n",
              "      <td>23.000000</td>\n",
              "      <td>33.000000</td>\n",
              "      <td>42.000000</td>\n",
              "      <td>51.000000</td>\n",
              "      <td>58.000000</td>\n",
              "    </tr>\n",
              "    <tr>\n",
              "      <th>max</th>\n",
              "      <td>2695.000000</td>\n",
              "      <td>50.000000</td>\n",
              "      <td>51.000000</td>\n",
              "      <td>56.000000</td>\n",
              "      <td>58.000000</td>\n",
              "      <td>59.000000</td>\n",
              "      <td>60.000000</td>\n",
              "    </tr>\n",
              "  </tbody>\n",
              "</table>\n",
              "</div>\n",
              "    <div class=\"colab-df-buttons\">\n",
              "\n",
              "  <div class=\"colab-df-container\">\n",
              "    <button class=\"colab-df-convert\" onclick=\"convertToInteractive('df-2adf7896-9310-4107-b4f3-8128000590c5')\"\n",
              "            title=\"Convert this dataframe to an interactive table.\"\n",
              "            style=\"display:none;\">\n",
              "\n",
              "  <svg xmlns=\"http://www.w3.org/2000/svg\" height=\"24px\" viewBox=\"0 -960 960 960\">\n",
              "    <path d=\"M120-120v-720h720v720H120Zm60-500h600v-160H180v160Zm220 220h160v-160H400v160Zm0 220h160v-160H400v160ZM180-400h160v-160H180v160Zm440 0h160v-160H620v160ZM180-180h160v-160H180v160Zm440 0h160v-160H620v160Z\"/>\n",
              "  </svg>\n",
              "    </button>\n",
              "\n",
              "  <style>\n",
              "    .colab-df-container {\n",
              "      display:flex;\n",
              "      gap: 12px;\n",
              "    }\n",
              "\n",
              "    .colab-df-convert {\n",
              "      background-color: #E8F0FE;\n",
              "      border: none;\n",
              "      border-radius: 50%;\n",
              "      cursor: pointer;\n",
              "      display: none;\n",
              "      fill: #1967D2;\n",
              "      height: 32px;\n",
              "      padding: 0 0 0 0;\n",
              "      width: 32px;\n",
              "    }\n",
              "\n",
              "    .colab-df-convert:hover {\n",
              "      background-color: #E2EBFA;\n",
              "      box-shadow: 0px 1px 2px rgba(60, 64, 67, 0.3), 0px 1px 3px 1px rgba(60, 64, 67, 0.15);\n",
              "      fill: #174EA6;\n",
              "    }\n",
              "\n",
              "    .colab-df-buttons div {\n",
              "      margin-bottom: 4px;\n",
              "    }\n",
              "\n",
              "    [theme=dark] .colab-df-convert {\n",
              "      background-color: #3B4455;\n",
              "      fill: #D2E3FC;\n",
              "    }\n",
              "\n",
              "    [theme=dark] .colab-df-convert:hover {\n",
              "      background-color: #434B5C;\n",
              "      box-shadow: 0px 1px 3px 1px rgba(0, 0, 0, 0.15);\n",
              "      filter: drop-shadow(0px 1px 2px rgba(0, 0, 0, 0.3));\n",
              "      fill: #FFFFFF;\n",
              "    }\n",
              "  </style>\n",
              "\n",
              "    <script>\n",
              "      const buttonEl =\n",
              "        document.querySelector('#df-2adf7896-9310-4107-b4f3-8128000590c5 button.colab-df-convert');\n",
              "      buttonEl.style.display =\n",
              "        google.colab.kernel.accessAllowed ? 'block' : 'none';\n",
              "\n",
              "      async function convertToInteractive(key) {\n",
              "        const element = document.querySelector('#df-2adf7896-9310-4107-b4f3-8128000590c5');\n",
              "        const dataTable =\n",
              "          await google.colab.kernel.invokeFunction('convertToInteractive',\n",
              "                                                    [key], {});\n",
              "        if (!dataTable) return;\n",
              "\n",
              "        const docLinkHtml = 'Like what you see? Visit the ' +\n",
              "          '<a target=\"_blank\" href=https://colab.research.google.com/notebooks/data_table.ipynb>data table notebook</a>'\n",
              "          + ' to learn more about interactive tables.';\n",
              "        element.innerHTML = '';\n",
              "        dataTable['output_type'] = 'display_data';\n",
              "        await google.colab.output.renderOutput(dataTable, element);\n",
              "        const docLink = document.createElement('div');\n",
              "        docLink.innerHTML = docLinkHtml;\n",
              "        element.appendChild(docLink);\n",
              "      }\n",
              "    </script>\n",
              "  </div>\n",
              "\n",
              "\n",
              "<div id=\"df-09a7abdc-f209-4751-ab86-8dbb07d0d96d\">\n",
              "  <button class=\"colab-df-quickchart\" onclick=\"quickchart('df-09a7abdc-f209-4751-ab86-8dbb07d0d96d')\"\n",
              "            title=\"Suggest charts\"\n",
              "            style=\"display:none;\">\n",
              "\n",
              "<svg xmlns=\"http://www.w3.org/2000/svg\" height=\"24px\"viewBox=\"0 0 24 24\"\n",
              "     width=\"24px\">\n",
              "    <g>\n",
              "        <path d=\"M19 3H5c-1.1 0-2 .9-2 2v14c0 1.1.9 2 2 2h14c1.1 0 2-.9 2-2V5c0-1.1-.9-2-2-2zM9 17H7v-7h2v7zm4 0h-2V7h2v10zm4 0h-2v-4h2v4z\"/>\n",
              "    </g>\n",
              "</svg>\n",
              "  </button>\n",
              "\n",
              "<style>\n",
              "  .colab-df-quickchart {\n",
              "      --bg-color: #E8F0FE;\n",
              "      --fill-color: #1967D2;\n",
              "      --hover-bg-color: #E2EBFA;\n",
              "      --hover-fill-color: #174EA6;\n",
              "      --disabled-fill-color: #AAA;\n",
              "      --disabled-bg-color: #DDD;\n",
              "  }\n",
              "\n",
              "  [theme=dark] .colab-df-quickchart {\n",
              "      --bg-color: #3B4455;\n",
              "      --fill-color: #D2E3FC;\n",
              "      --hover-bg-color: #434B5C;\n",
              "      --hover-fill-color: #FFFFFF;\n",
              "      --disabled-bg-color: #3B4455;\n",
              "      --disabled-fill-color: #666;\n",
              "  }\n",
              "\n",
              "  .colab-df-quickchart {\n",
              "    background-color: var(--bg-color);\n",
              "    border: none;\n",
              "    border-radius: 50%;\n",
              "    cursor: pointer;\n",
              "    display: none;\n",
              "    fill: var(--fill-color);\n",
              "    height: 32px;\n",
              "    padding: 0;\n",
              "    width: 32px;\n",
              "  }\n",
              "\n",
              "  .colab-df-quickchart:hover {\n",
              "    background-color: var(--hover-bg-color);\n",
              "    box-shadow: 0 1px 2px rgba(60, 64, 67, 0.3), 0 1px 3px 1px rgba(60, 64, 67, 0.15);\n",
              "    fill: var(--button-hover-fill-color);\n",
              "  }\n",
              "\n",
              "  .colab-df-quickchart-complete:disabled,\n",
              "  .colab-df-quickchart-complete:disabled:hover {\n",
              "    background-color: var(--disabled-bg-color);\n",
              "    fill: var(--disabled-fill-color);\n",
              "    box-shadow: none;\n",
              "  }\n",
              "\n",
              "  .colab-df-spinner {\n",
              "    border: 2px solid var(--fill-color);\n",
              "    border-color: transparent;\n",
              "    border-bottom-color: var(--fill-color);\n",
              "    animation:\n",
              "      spin 1s steps(1) infinite;\n",
              "  }\n",
              "\n",
              "  @keyframes spin {\n",
              "    0% {\n",
              "      border-color: transparent;\n",
              "      border-bottom-color: var(--fill-color);\n",
              "      border-left-color: var(--fill-color);\n",
              "    }\n",
              "    20% {\n",
              "      border-color: transparent;\n",
              "      border-left-color: var(--fill-color);\n",
              "      border-top-color: var(--fill-color);\n",
              "    }\n",
              "    30% {\n",
              "      border-color: transparent;\n",
              "      border-left-color: var(--fill-color);\n",
              "      border-top-color: var(--fill-color);\n",
              "      border-right-color: var(--fill-color);\n",
              "    }\n",
              "    40% {\n",
              "      border-color: transparent;\n",
              "      border-right-color: var(--fill-color);\n",
              "      border-top-color: var(--fill-color);\n",
              "    }\n",
              "    60% {\n",
              "      border-color: transparent;\n",
              "      border-right-color: var(--fill-color);\n",
              "    }\n",
              "    80% {\n",
              "      border-color: transparent;\n",
              "      border-right-color: var(--fill-color);\n",
              "      border-bottom-color: var(--fill-color);\n",
              "    }\n",
              "    90% {\n",
              "      border-color: transparent;\n",
              "      border-bottom-color: var(--fill-color);\n",
              "    }\n",
              "  }\n",
              "</style>\n",
              "\n",
              "  <script>\n",
              "    async function quickchart(key) {\n",
              "      const quickchartButtonEl =\n",
              "        document.querySelector('#' + key + ' button');\n",
              "      quickchartButtonEl.disabled = true;  // To prevent multiple clicks.\n",
              "      quickchartButtonEl.classList.add('colab-df-spinner');\n",
              "      try {\n",
              "        const charts = await google.colab.kernel.invokeFunction(\n",
              "            'suggestCharts', [key], {});\n",
              "      } catch (error) {\n",
              "        console.error('Error during call to suggestCharts:', error);\n",
              "      }\n",
              "      quickchartButtonEl.classList.remove('colab-df-spinner');\n",
              "      quickchartButtonEl.classList.add('colab-df-quickchart-complete');\n",
              "    }\n",
              "    (() => {\n",
              "      let quickchartButtonEl =\n",
              "        document.querySelector('#df-09a7abdc-f209-4751-ab86-8dbb07d0d96d button');\n",
              "      quickchartButtonEl.style.display =\n",
              "        google.colab.kernel.accessAllowed ? 'block' : 'none';\n",
              "    })();\n",
              "  </script>\n",
              "</div>\n",
              "\n",
              "    </div>\n",
              "  </div>\n"
            ],
            "application/vnd.google.colaboratory.intrinsic+json": {
              "type": "dataframe",
              "summary": "{\n  \"name\": \"mega_sena\",\n  \"rows\": 8,\n  \"fields\": [\n    {\n      \"column\": \"Concurso\",\n      \"properties\": {\n        \"dtype\": \"number\",\n        \"std\": 970.9862579848344,\n        \"min\": 1.0,\n        \"max\": 2695.0,\n        \"num_unique_values\": 6,\n        \"samples\": [\n          2695.0,\n          1348.0,\n          2021.5\n        ],\n        \"semantic_type\": \"\",\n        \"description\": \"\"\n      }\n    },\n    {\n      \"column\": \"Bola1\",\n      \"properties\": {\n        \"dtype\": \"number\",\n        \"std\": 948.4802684136008,\n        \"min\": 1.0,\n        \"max\": 2695.0,\n        \"num_unique_values\": 8,\n        \"samples\": [\n          8.610018552875696,\n          7.0,\n          2695.0\n        ],\n        \"semantic_type\": \"\",\n        \"description\": \"\"\n      }\n    },\n    {\n      \"column\": \"Bola2\",\n      \"properties\": {\n        \"dtype\": \"number\",\n        \"std\": 946.4519515092112,\n        \"min\": 2.0,\n        \"max\": 2695.0,\n        \"num_unique_values\": 8,\n        \"samples\": [\n          17.341372912801486,\n          16.0,\n          2695.0\n        ],\n        \"semantic_type\": \"\",\n        \"description\": \"\"\n      }\n    },\n    {\n      \"column\": \"Bola3\",\n      \"properties\": {\n        \"dtype\": \"number\",\n        \"std\": 944.2051210043154,\n        \"min\": 3.0,\n        \"max\": 2695.0,\n        \"num_unique_values\": 8,\n        \"samples\": [\n          26.379591836734694,\n          26.0,\n          2695.0\n        ],\n        \"semantic_type\": \"\",\n        \"description\": \"\"\n      }\n    },\n    {\n      \"column\": \"Bola4\",\n      \"properties\": {\n        \"dtype\": \"number\",\n        \"std\": 942.0660918783904,\n        \"min\": 8.0,\n        \"max\": 2695.0,\n        \"num_unique_values\": 8,\n        \"samples\": [\n          35.0860853432282,\n          35.0,\n          2695.0\n        ],\n        \"semantic_type\": \"\",\n        \"description\": \"\"\n      }\n    },\n    {\n      \"column\": \"Bola5\",\n      \"properties\": {\n        \"dtype\": \"number\",\n        \"std\": 940.0370668703486,\n        \"min\": 9.03189390258582,\n        \"max\": 2695.0,\n        \"num_unique_values\": 8,\n        \"samples\": [\n          43.5621521335807,\n          45.0,\n          2695.0\n        ],\n        \"semantic_type\": \"\",\n        \"description\": \"\"\n      }\n    },\n    {\n      \"column\": \"Bola6\",\n      \"properties\": {\n        \"dtype\": \"number\",\n        \"std\": 937.7538758016453,\n        \"min\": 7.001870936070477,\n        \"max\": 2695.0,\n        \"num_unique_values\": 8,\n        \"samples\": [\n          52.17699443413729,\n          54.0,\n          2695.0\n        ],\n        \"semantic_type\": \"\",\n        \"description\": \"\"\n      }\n    }\n  ]\n}"
            }
          },
          "metadata": {},
          "execution_count": 12
        }
      ]
    },
    {
      "cell_type": "code",
      "source": [
        "mega_sena['Data do Sorteio'] = pd.to_datetime(mega_sena['Data do Sorteio'], format='%d/%m/%Y')"
      ],
      "metadata": {
        "id": "HA0PpF1KODK1",
        "colab": {
          "base_uri": "https://localhost:8080/"
        },
        "outputId": "ccf1262f-2252-4cdb-8ebf-da7f7dcc3ff1"
      },
      "execution_count": 13,
      "outputs": [
        {
          "output_type": "stream",
          "name": "stderr",
          "text": [
            "<ipython-input-13-d895191b8184>:1: SettingWithCopyWarning: \n",
            "A value is trying to be set on a copy of a slice from a DataFrame.\n",
            "Try using .loc[row_indexer,col_indexer] = value instead\n",
            "\n",
            "See the caveats in the documentation: https://pandas.pydata.org/pandas-docs/stable/user_guide/indexing.html#returning-a-view-versus-a-copy\n",
            "  mega_sena['Data do Sorteio'] = pd.to_datetime(mega_sena['Data do Sorteio'], format='%d/%m/%Y')\n"
          ]
        }
      ]
    },
    {
      "cell_type": "code",
      "source": [
        "matriz_corr = mega_sena.iloc[:, 2:].corr()\n",
        "matriz_corr"
      ],
      "metadata": {
        "colab": {
          "base_uri": "https://localhost:8080/",
          "height": 238
        },
        "id": "ZHXddO58OLGK",
        "outputId": "9bcee2cd-b815-49ba-86e1-0fcc8aced361"
      },
      "execution_count": 14,
      "outputs": [
        {
          "output_type": "execute_result",
          "data": {
            "text/plain": [
              "          Bola1     Bola2     Bola3     Bola4     Bola5     Bola6\n",
              "Bola1  1.000000  0.638257  0.456850  0.354147  0.247608  0.163720\n",
              "Bola2  0.638257  1.000000  0.710803  0.532823  0.392101  0.262657\n",
              "Bola3  0.456850  0.710803  1.000000  0.755799  0.561438  0.367143\n",
              "Bola4  0.354147  0.532823  0.755799  1.000000  0.735601  0.491695\n",
              "Bola5  0.247608  0.392101  0.561438  0.735601  1.000000  0.656915\n",
              "Bola6  0.163720  0.262657  0.367143  0.491695  0.656915  1.000000"
            ],
            "text/html": [
              "\n",
              "  <div id=\"df-07e58dd8-5732-4c8f-b29d-f2576c6b3f54\" class=\"colab-df-container\">\n",
              "    <div>\n",
              "<style scoped>\n",
              "    .dataframe tbody tr th:only-of-type {\n",
              "        vertical-align: middle;\n",
              "    }\n",
              "\n",
              "    .dataframe tbody tr th {\n",
              "        vertical-align: top;\n",
              "    }\n",
              "\n",
              "    .dataframe thead th {\n",
              "        text-align: right;\n",
              "    }\n",
              "</style>\n",
              "<table border=\"1\" class=\"dataframe\">\n",
              "  <thead>\n",
              "    <tr style=\"text-align: right;\">\n",
              "      <th></th>\n",
              "      <th>Bola1</th>\n",
              "      <th>Bola2</th>\n",
              "      <th>Bola3</th>\n",
              "      <th>Bola4</th>\n",
              "      <th>Bola5</th>\n",
              "      <th>Bola6</th>\n",
              "    </tr>\n",
              "  </thead>\n",
              "  <tbody>\n",
              "    <tr>\n",
              "      <th>Bola1</th>\n",
              "      <td>1.000000</td>\n",
              "      <td>0.638257</td>\n",
              "      <td>0.456850</td>\n",
              "      <td>0.354147</td>\n",
              "      <td>0.247608</td>\n",
              "      <td>0.163720</td>\n",
              "    </tr>\n",
              "    <tr>\n",
              "      <th>Bola2</th>\n",
              "      <td>0.638257</td>\n",
              "      <td>1.000000</td>\n",
              "      <td>0.710803</td>\n",
              "      <td>0.532823</td>\n",
              "      <td>0.392101</td>\n",
              "      <td>0.262657</td>\n",
              "    </tr>\n",
              "    <tr>\n",
              "      <th>Bola3</th>\n",
              "      <td>0.456850</td>\n",
              "      <td>0.710803</td>\n",
              "      <td>1.000000</td>\n",
              "      <td>0.755799</td>\n",
              "      <td>0.561438</td>\n",
              "      <td>0.367143</td>\n",
              "    </tr>\n",
              "    <tr>\n",
              "      <th>Bola4</th>\n",
              "      <td>0.354147</td>\n",
              "      <td>0.532823</td>\n",
              "      <td>0.755799</td>\n",
              "      <td>1.000000</td>\n",
              "      <td>0.735601</td>\n",
              "      <td>0.491695</td>\n",
              "    </tr>\n",
              "    <tr>\n",
              "      <th>Bola5</th>\n",
              "      <td>0.247608</td>\n",
              "      <td>0.392101</td>\n",
              "      <td>0.561438</td>\n",
              "      <td>0.735601</td>\n",
              "      <td>1.000000</td>\n",
              "      <td>0.656915</td>\n",
              "    </tr>\n",
              "    <tr>\n",
              "      <th>Bola6</th>\n",
              "      <td>0.163720</td>\n",
              "      <td>0.262657</td>\n",
              "      <td>0.367143</td>\n",
              "      <td>0.491695</td>\n",
              "      <td>0.656915</td>\n",
              "      <td>1.000000</td>\n",
              "    </tr>\n",
              "  </tbody>\n",
              "</table>\n",
              "</div>\n",
              "    <div class=\"colab-df-buttons\">\n",
              "\n",
              "  <div class=\"colab-df-container\">\n",
              "    <button class=\"colab-df-convert\" onclick=\"convertToInteractive('df-07e58dd8-5732-4c8f-b29d-f2576c6b3f54')\"\n",
              "            title=\"Convert this dataframe to an interactive table.\"\n",
              "            style=\"display:none;\">\n",
              "\n",
              "  <svg xmlns=\"http://www.w3.org/2000/svg\" height=\"24px\" viewBox=\"0 -960 960 960\">\n",
              "    <path d=\"M120-120v-720h720v720H120Zm60-500h600v-160H180v160Zm220 220h160v-160H400v160Zm0 220h160v-160H400v160ZM180-400h160v-160H180v160Zm440 0h160v-160H620v160ZM180-180h160v-160H180v160Zm440 0h160v-160H620v160Z\"/>\n",
              "  </svg>\n",
              "    </button>\n",
              "\n",
              "  <style>\n",
              "    .colab-df-container {\n",
              "      display:flex;\n",
              "      gap: 12px;\n",
              "    }\n",
              "\n",
              "    .colab-df-convert {\n",
              "      background-color: #E8F0FE;\n",
              "      border: none;\n",
              "      border-radius: 50%;\n",
              "      cursor: pointer;\n",
              "      display: none;\n",
              "      fill: #1967D2;\n",
              "      height: 32px;\n",
              "      padding: 0 0 0 0;\n",
              "      width: 32px;\n",
              "    }\n",
              "\n",
              "    .colab-df-convert:hover {\n",
              "      background-color: #E2EBFA;\n",
              "      box-shadow: 0px 1px 2px rgba(60, 64, 67, 0.3), 0px 1px 3px 1px rgba(60, 64, 67, 0.15);\n",
              "      fill: #174EA6;\n",
              "    }\n",
              "\n",
              "    .colab-df-buttons div {\n",
              "      margin-bottom: 4px;\n",
              "    }\n",
              "\n",
              "    [theme=dark] .colab-df-convert {\n",
              "      background-color: #3B4455;\n",
              "      fill: #D2E3FC;\n",
              "    }\n",
              "\n",
              "    [theme=dark] .colab-df-convert:hover {\n",
              "      background-color: #434B5C;\n",
              "      box-shadow: 0px 1px 3px 1px rgba(0, 0, 0, 0.15);\n",
              "      filter: drop-shadow(0px 1px 2px rgba(0, 0, 0, 0.3));\n",
              "      fill: #FFFFFF;\n",
              "    }\n",
              "  </style>\n",
              "\n",
              "    <script>\n",
              "      const buttonEl =\n",
              "        document.querySelector('#df-07e58dd8-5732-4c8f-b29d-f2576c6b3f54 button.colab-df-convert');\n",
              "      buttonEl.style.display =\n",
              "        google.colab.kernel.accessAllowed ? 'block' : 'none';\n",
              "\n",
              "      async function convertToInteractive(key) {\n",
              "        const element = document.querySelector('#df-07e58dd8-5732-4c8f-b29d-f2576c6b3f54');\n",
              "        const dataTable =\n",
              "          await google.colab.kernel.invokeFunction('convertToInteractive',\n",
              "                                                    [key], {});\n",
              "        if (!dataTable) return;\n",
              "\n",
              "        const docLinkHtml = 'Like what you see? Visit the ' +\n",
              "          '<a target=\"_blank\" href=https://colab.research.google.com/notebooks/data_table.ipynb>data table notebook</a>'\n",
              "          + ' to learn more about interactive tables.';\n",
              "        element.innerHTML = '';\n",
              "        dataTable['output_type'] = 'display_data';\n",
              "        await google.colab.output.renderOutput(dataTable, element);\n",
              "        const docLink = document.createElement('div');\n",
              "        docLink.innerHTML = docLinkHtml;\n",
              "        element.appendChild(docLink);\n",
              "      }\n",
              "    </script>\n",
              "  </div>\n",
              "\n",
              "\n",
              "<div id=\"df-a612ac40-f411-4ba4-bc20-1ee1a005032e\">\n",
              "  <button class=\"colab-df-quickchart\" onclick=\"quickchart('df-a612ac40-f411-4ba4-bc20-1ee1a005032e')\"\n",
              "            title=\"Suggest charts\"\n",
              "            style=\"display:none;\">\n",
              "\n",
              "<svg xmlns=\"http://www.w3.org/2000/svg\" height=\"24px\"viewBox=\"0 0 24 24\"\n",
              "     width=\"24px\">\n",
              "    <g>\n",
              "        <path d=\"M19 3H5c-1.1 0-2 .9-2 2v14c0 1.1.9 2 2 2h14c1.1 0 2-.9 2-2V5c0-1.1-.9-2-2-2zM9 17H7v-7h2v7zm4 0h-2V7h2v10zm4 0h-2v-4h2v4z\"/>\n",
              "    </g>\n",
              "</svg>\n",
              "  </button>\n",
              "\n",
              "<style>\n",
              "  .colab-df-quickchart {\n",
              "      --bg-color: #E8F0FE;\n",
              "      --fill-color: #1967D2;\n",
              "      --hover-bg-color: #E2EBFA;\n",
              "      --hover-fill-color: #174EA6;\n",
              "      --disabled-fill-color: #AAA;\n",
              "      --disabled-bg-color: #DDD;\n",
              "  }\n",
              "\n",
              "  [theme=dark] .colab-df-quickchart {\n",
              "      --bg-color: #3B4455;\n",
              "      --fill-color: #D2E3FC;\n",
              "      --hover-bg-color: #434B5C;\n",
              "      --hover-fill-color: #FFFFFF;\n",
              "      --disabled-bg-color: #3B4455;\n",
              "      --disabled-fill-color: #666;\n",
              "  }\n",
              "\n",
              "  .colab-df-quickchart {\n",
              "    background-color: var(--bg-color);\n",
              "    border: none;\n",
              "    border-radius: 50%;\n",
              "    cursor: pointer;\n",
              "    display: none;\n",
              "    fill: var(--fill-color);\n",
              "    height: 32px;\n",
              "    padding: 0;\n",
              "    width: 32px;\n",
              "  }\n",
              "\n",
              "  .colab-df-quickchart:hover {\n",
              "    background-color: var(--hover-bg-color);\n",
              "    box-shadow: 0 1px 2px rgba(60, 64, 67, 0.3), 0 1px 3px 1px rgba(60, 64, 67, 0.15);\n",
              "    fill: var(--button-hover-fill-color);\n",
              "  }\n",
              "\n",
              "  .colab-df-quickchart-complete:disabled,\n",
              "  .colab-df-quickchart-complete:disabled:hover {\n",
              "    background-color: var(--disabled-bg-color);\n",
              "    fill: var(--disabled-fill-color);\n",
              "    box-shadow: none;\n",
              "  }\n",
              "\n",
              "  .colab-df-spinner {\n",
              "    border: 2px solid var(--fill-color);\n",
              "    border-color: transparent;\n",
              "    border-bottom-color: var(--fill-color);\n",
              "    animation:\n",
              "      spin 1s steps(1) infinite;\n",
              "  }\n",
              "\n",
              "  @keyframes spin {\n",
              "    0% {\n",
              "      border-color: transparent;\n",
              "      border-bottom-color: var(--fill-color);\n",
              "      border-left-color: var(--fill-color);\n",
              "    }\n",
              "    20% {\n",
              "      border-color: transparent;\n",
              "      border-left-color: var(--fill-color);\n",
              "      border-top-color: var(--fill-color);\n",
              "    }\n",
              "    30% {\n",
              "      border-color: transparent;\n",
              "      border-left-color: var(--fill-color);\n",
              "      border-top-color: var(--fill-color);\n",
              "      border-right-color: var(--fill-color);\n",
              "    }\n",
              "    40% {\n",
              "      border-color: transparent;\n",
              "      border-right-color: var(--fill-color);\n",
              "      border-top-color: var(--fill-color);\n",
              "    }\n",
              "    60% {\n",
              "      border-color: transparent;\n",
              "      border-right-color: var(--fill-color);\n",
              "    }\n",
              "    80% {\n",
              "      border-color: transparent;\n",
              "      border-right-color: var(--fill-color);\n",
              "      border-bottom-color: var(--fill-color);\n",
              "    }\n",
              "    90% {\n",
              "      border-color: transparent;\n",
              "      border-bottom-color: var(--fill-color);\n",
              "    }\n",
              "  }\n",
              "</style>\n",
              "\n",
              "  <script>\n",
              "    async function quickchart(key) {\n",
              "      const quickchartButtonEl =\n",
              "        document.querySelector('#' + key + ' button');\n",
              "      quickchartButtonEl.disabled = true;  // To prevent multiple clicks.\n",
              "      quickchartButtonEl.classList.add('colab-df-spinner');\n",
              "      try {\n",
              "        const charts = await google.colab.kernel.invokeFunction(\n",
              "            'suggestCharts', [key], {});\n",
              "      } catch (error) {\n",
              "        console.error('Error during call to suggestCharts:', error);\n",
              "      }\n",
              "      quickchartButtonEl.classList.remove('colab-df-spinner');\n",
              "      quickchartButtonEl.classList.add('colab-df-quickchart-complete');\n",
              "    }\n",
              "    (() => {\n",
              "      let quickchartButtonEl =\n",
              "        document.querySelector('#df-a612ac40-f411-4ba4-bc20-1ee1a005032e button');\n",
              "      quickchartButtonEl.style.display =\n",
              "        google.colab.kernel.accessAllowed ? 'block' : 'none';\n",
              "    })();\n",
              "  </script>\n",
              "</div>\n",
              "\n",
              "  <div id=\"id_05370ad8-2549-48d5-82d1-fe39eeb8c8a6\">\n",
              "    <style>\n",
              "      .colab-df-generate {\n",
              "        background-color: #E8F0FE;\n",
              "        border: none;\n",
              "        border-radius: 50%;\n",
              "        cursor: pointer;\n",
              "        display: none;\n",
              "        fill: #1967D2;\n",
              "        height: 32px;\n",
              "        padding: 0 0 0 0;\n",
              "        width: 32px;\n",
              "      }\n",
              "\n",
              "      .colab-df-generate:hover {\n",
              "        background-color: #E2EBFA;\n",
              "        box-shadow: 0px 1px 2px rgba(60, 64, 67, 0.3), 0px 1px 3px 1px rgba(60, 64, 67, 0.15);\n",
              "        fill: #174EA6;\n",
              "      }\n",
              "\n",
              "      [theme=dark] .colab-df-generate {\n",
              "        background-color: #3B4455;\n",
              "        fill: #D2E3FC;\n",
              "      }\n",
              "\n",
              "      [theme=dark] .colab-df-generate:hover {\n",
              "        background-color: #434B5C;\n",
              "        box-shadow: 0px 1px 3px 1px rgba(0, 0, 0, 0.15);\n",
              "        filter: drop-shadow(0px 1px 2px rgba(0, 0, 0, 0.3));\n",
              "        fill: #FFFFFF;\n",
              "      }\n",
              "    </style>\n",
              "    <button class=\"colab-df-generate\" onclick=\"generateWithVariable('matriz_corr')\"\n",
              "            title=\"Generate code using this dataframe.\"\n",
              "            style=\"display:none;\">\n",
              "\n",
              "  <svg xmlns=\"http://www.w3.org/2000/svg\" height=\"24px\"viewBox=\"0 0 24 24\"\n",
              "       width=\"24px\">\n",
              "    <path d=\"M7,19H8.4L18.45,9,17,7.55,7,17.6ZM5,21V16.75L18.45,3.32a2,2,0,0,1,2.83,0l1.4,1.43a1.91,1.91,0,0,1,.58,1.4,1.91,1.91,0,0,1-.58,1.4L9.25,21ZM18.45,9,17,7.55Zm-12,3A5.31,5.31,0,0,0,4.9,8.1,5.31,5.31,0,0,0,1,6.5,5.31,5.31,0,0,0,4.9,4.9,5.31,5.31,0,0,0,6.5,1,5.31,5.31,0,0,0,8.1,4.9,5.31,5.31,0,0,0,12,6.5,5.46,5.46,0,0,0,6.5,12Z\"/>\n",
              "  </svg>\n",
              "    </button>\n",
              "    <script>\n",
              "      (() => {\n",
              "      const buttonEl =\n",
              "        document.querySelector('#id_05370ad8-2549-48d5-82d1-fe39eeb8c8a6 button.colab-df-generate');\n",
              "      buttonEl.style.display =\n",
              "        google.colab.kernel.accessAllowed ? 'block' : 'none';\n",
              "\n",
              "      buttonEl.onclick = () => {\n",
              "        google.colab.notebook.generateWithVariable('matriz_corr');\n",
              "      }\n",
              "      })();\n",
              "    </script>\n",
              "  </div>\n",
              "\n",
              "    </div>\n",
              "  </div>\n"
            ],
            "application/vnd.google.colaboratory.intrinsic+json": {
              "type": "dataframe",
              "variable_name": "matriz_corr",
              "summary": "{\n  \"name\": \"matriz_corr\",\n  \"rows\": 6,\n  \"fields\": [\n    {\n      \"column\": \"Bola1\",\n      \"properties\": {\n        \"dtype\": \"number\",\n        \"std\": 0.3052201476262286,\n        \"min\": 0.16371989625992978,\n        \"max\": 1.0,\n        \"num_unique_values\": 6,\n        \"samples\": [\n          1.0,\n          0.6382570785505001,\n          0.16371989625992978\n        ],\n        \"semantic_type\": \"\",\n        \"description\": \"\"\n      }\n    },\n    {\n      \"column\": \"Bola2\",\n      \"properties\": {\n        \"dtype\": \"number\",\n        \"std\": 0.2586916397442788,\n        \"min\": 0.26265693099662973,\n        \"max\": 1.0,\n        \"num_unique_values\": 6,\n        \"samples\": [\n          0.6382570785505001,\n          1.0,\n          0.26265693099662973\n        ],\n        \"semantic_type\": \"\",\n        \"description\": \"\"\n      }\n    },\n    {\n      \"column\": \"Bola3\",\n      \"properties\": {\n        \"dtype\": \"number\",\n        \"std\": 0.22898257029430244,\n        \"min\": 0.3671427565151266,\n        \"max\": 1.0,\n        \"num_unique_values\": 6,\n        \"samples\": [\n          0.4568501605761476,\n          0.7108027448544084,\n          0.3671427565151266\n        ],\n        \"semantic_type\": \"\",\n        \"description\": \"\"\n      }\n    },\n    {\n      \"column\": \"Bola4\",\n      \"properties\": {\n        \"dtype\": \"number\",\n        \"std\": 0.2311673260557266,\n        \"min\": 0.35414661554045324,\n        \"max\": 1.0,\n        \"num_unique_values\": 6,\n        \"samples\": [\n          0.35414661554045324,\n          0.5328230070310384,\n          0.49169514739718495\n        ],\n        \"semantic_type\": \"\",\n        \"description\": \"\"\n      }\n    },\n    {\n      \"column\": \"Bola5\",\n      \"properties\": {\n        \"dtype\": \"number\",\n        \"std\": 0.2647676133536034,\n        \"min\": 0.24760778338902503,\n        \"max\": 1.0,\n        \"num_unique_values\": 6,\n        \"samples\": [\n          0.24760778338902503,\n          0.392101134869125,\n          0.656914505772027\n        ],\n        \"semantic_type\": \"\",\n        \"description\": \"\"\n      }\n    },\n    {\n      \"column\": \"Bola6\",\n      \"properties\": {\n        \"dtype\": \"number\",\n        \"std\": 0.30371040467876526,\n        \"min\": 0.16371989625992978,\n        \"max\": 1.0,\n        \"num_unique_values\": 6,\n        \"samples\": [\n          0.16371989625992978,\n          0.26265693099662973,\n          1.0\n        ],\n        \"semantic_type\": \"\",\n        \"description\": \"\"\n      }\n    }\n  ]\n}"
            }
          },
          "metadata": {},
          "execution_count": 14
        }
      ]
    },
    {
      "cell_type": "markdown",
      "source": [
        "#### Vizualizações Gráficas\n",
        "\n",
        "Agora vamos criar gráficos para ilustrar os padrões identificados e facilitar a compreensão dos dados."
      ],
      "metadata": {
        "id": "1LWtdWMgOU9m"
      }
    },
    {
      "cell_type": "markdown",
      "source": [
        "O histograma a seguir mostra a quantidade de vezes que cada elemento foi sorteado. Podemos perceber que alguns elementos foram mais sorteados que outros.\n",
        "Os números 10 e 53 foram sorteados mais de 300 vezes.\n",
        "Já os números 21, 26 e 55 foram os menos sorteados, menos de 230 vezes cada.\n",
        "Podemos observar que a distribuição é irregular.\n",
        "\n"
      ],
      "metadata": {
        "id": "u64JbU4wOhM7"
      }
    },
    {
      "cell_type": "code",
      "source": [
        "plt.figure(figsize=(10, 6))\n",
        "mega_sena.iloc[:, 2:].stack().hist(bins=60, color='navy', rwidth = 0.8)\n",
        "plt.title('Histograma dos Números Sorteados')\n",
        "plt.xlabel('Número')\n",
        "plt.ylabel('Quantidade de Ocorrências')\n",
        "plt.grid(False)\n",
        "plt.show()"
      ],
      "metadata": {
        "colab": {
          "base_uri": "https://localhost:8080/",
          "height": 565
        },
        "id": "EjhgcSAyOsyJ",
        "outputId": "8983fa87-9e22-49bc-d648-7dc6609bdbce"
      },
      "execution_count": 15,
      "outputs": [
        {
          "output_type": "display_data",
          "data": {
            "text/plain": [
              "<Figure size 1000x600 with 1 Axes>"
            ],
            "image/png": "[encoded data removed]"
          },
          "metadata": {}
        }
      ]
    },
    {
      "cell_type": "markdown",
      "source": [
        "Se ordenarmos os dados por quantidade de vezes sorteadas, em ordem descrescente, podemos confirmar com precisão a quantidade de sorteios para cada número.\n",
        "Agora podemos afirmar que o número 10 é o de maior frequência nos sorteios: 315 vezes. 5 vezes mais que o segundo colocado, número 53. Tão próximo, mas tão distante está o número 55, antepenúltimo colocado, tendo sido sorteado somente 229 vezes e na frente apenas dos números 21 e 26, cada um sorteado 228 vezes."
      ],
      "metadata": {
        "id": "GNgxZtSNPo8j"
      }
    },
    {
      "cell_type": "code",
      "source": [
        "numeros_de_1_a_60 = range(1, 61)\n",
        "ocorrencias_por_numero = {}\n",
        "\n",
        "for numero in numeros_de_1_a_60:\n",
        "    ocorrencias_booleanas = mega_sena.apply(lambda row: numero in row.values, axis=1)\n",
        "    quantidade_de_ocorrencias = ocorrencias_booleanas.sum()\n",
        "    ocorrencias_por_numero[numero] = quantidade_de_ocorrencias"
      ],
      "metadata": {
        "id": "STB75VK5PorE"
      },
      "execution_count": 16,
      "outputs": []
    },
    {
      "cell_type": "code",
      "source": [
        "resultado_ordenado = sorted(ocorrencias_por_numero.items(), key=lambda x: x[1], reverse=True)"
      ],
      "metadata": {
        "id": "x8te2fW_QgW0"
      },
      "execution_count": 17,
      "outputs": []
    },
    {
      "cell_type": "code",
      "source": [
        "todos_numeros_e_ocorrencias = pd.DataFrame(resultado_ordenado, columns=['Número', 'Quantidade'])\n",
        "\n",
        "print(\"Número: Quantidade de Ocorrências\")\n",
        "print(\"-\" * 10)\n",
        "for numero, ocorrencias in resultado_ordenado:\n",
        "    print(f\"{numero:10}:{ocorrencias:10} vezes\")"
      ],
      "metadata": {
        "colab": {
          "base_uri": "https://localhost:8080/"
        },
        "id": "Ks0FrZXLPyo4",
        "outputId": "a33d8703-aa4a-44b4-e962-348bff17a565"
      },
      "execution_count": 18,
      "outputs": [
        {
          "output_type": "stream",
          "name": "stdout",
          "text": [
            "Número: Quantidade de Ocorrências\n",
            "----------\n",
            "        10:       315 vezes\n",
            "        53:       310 vezes\n",
            "         5:       298 vezes\n",
            "        37:       292 vezes\n",
            "        34:       291 vezes\n",
            "        23:       290 vezes\n",
            "        33:       290 vezes\n",
            "        30:       289 vezes\n",
            "        41:       289 vezes\n",
            "         4:       288 vezes\n",
            "        32:       287 vezes\n",
            "        42:       287 vezes\n",
            "        35:       286 vezes\n",
            "        17:       285 vezes\n",
            "        38:       284 vezes\n",
            "        44:       283 vezes\n",
            "        56:       283 vezes\n",
            "        28:       282 vezes\n",
            "        43:       282 vezes\n",
            "        27:       281 vezes\n",
            "        29:       281 vezes\n",
            "        16:       280 vezes\n",
            "        54:       280 vezes\n",
            "        11:       279 vezes\n",
            "        13:       277 vezes\n",
            "        36:       276 vezes\n",
            "        49:       276 vezes\n",
            "        51:       276 vezes\n",
            "        46:       275 vezes\n",
            "         8:       272 vezes\n",
            "         2:       270 vezes\n",
            "         6:       270 vezes\n",
            "        24:       270 vezes\n",
            "        52:       270 vezes\n",
            "        45:       266 vezes\n",
            "        20:       265 vezes\n",
            "        58:       265 vezes\n",
            "        14:       262 vezes\n",
            "        50:       262 vezes\n",
            "        59:       262 vezes\n",
            "        18:       261 vezes\n",
            "        25:       260 vezes\n",
            "         1:       259 vezes\n",
            "        12:       259 vezes\n",
            "        39:       258 vezes\n",
            "        57:       258 vezes\n",
            "         9:       256 vezes\n",
            "        47:       256 vezes\n",
            "        60:       256 vezes\n",
            "         7:       254 vezes\n",
            "        19:       253 vezes\n",
            "        40:       253 vezes\n",
            "         3:       252 vezes\n",
            "        31:       252 vezes\n",
            "        48:       250 vezes\n",
            "        22:       245 vezes\n",
            "        15:       234 vezes\n",
            "        55:       229 vezes\n",
            "        21:       228 vezes\n",
            "        26:       228 vezes\n"
          ]
        }
      ]
    },
    {
      "cell_type": "markdown",
      "source": [
        "A seguir trazemos uma matriz de correlação.\n",
        "Muito embora tenhamos encontrado uma correlação entre as bolas do sorteio, vale a consideração:\n",
        "Será que existe, realmente, uma correlação aqui? Ou seja, o sorteio das bolas 3 e 4 é fortemente dependente um do outro?\n",
        "Não nos parece ser o caso e esse é um bom exemplo de que os dados por si só não são suficientes e de que é fundamental fazer uma análise cautelosa sobre os resultados obtidos."
      ],
      "metadata": {
        "id": "btv8luCJQt6D"
      }
    },
    {
      "cell_type": "code",
      "source": [
        "plt.figure(figsize=(10, 8))\n",
        "sns.heatmap(matriz_corr, annot=True, cmap='viridis')\n",
        "plt.title('Matriz de Correlação dos Números Sorteados')\n",
        "plt.show()"
      ],
      "metadata": {
        "colab": {
          "base_uri": "https://localhost:8080/",
          "height": 699
        },
        "id": "-SB4cx2sQtaa",
        "outputId": "8c468326-e842-4f67-c671-a88e4e8e6bea"
      },
      "execution_count": 19,
      "outputs": [
        {
          "output_type": "display_data",
          "data": {
            "text/plain": [
              "<Figure size 1000x800 with 2 Axes>"
            ],
            "image/png": "[encoded data removed]"
          },
          "metadata": {}
        }
      ]
    },
    {
      "cell_type": "markdown",
      "source": [
        "A seguir realizamos a vizualização por meio do boxplot das bolas sorteadas. Com a vizualização é possível verificar os números que são sorteados com menos frequência (outliers), também é possível realizar comparação das distribuições das bolas sorteadas permite identificar se há alguma bola que tende a ter números mais altos ou mais baixos."
      ],
      "metadata": {
        "id": "Clz8CGwBScFr"
      }
    },
    {
      "cell_type": "code",
      "source": [
        "plt.figure(figsize=(12, 6))\n",
        "sns.boxplot(data=mega_sena[['Bola1', 'Bola2', 'Bola3', 'Bola4', 'Bola5', 'Bola6']], orient='h')\n",
        "plt.xlabel('Número da Bola')\n",
        "plt.title('Boxplot das Bolas Sorteadas')\n",
        "plt.grid(True)\n",
        "plt.show()"
      ],
      "metadata": {
        "colab": {
          "base_uri": "https://localhost:8080/",
          "height": 564
        },
        "id": "v56ur5YHKKp2",
        "outputId": "2e0359ae-1560-4d25-f543-caf547e6af97"
      },
      "execution_count": 20,
      "outputs": [
        {
          "output_type": "display_data",
          "data": {
            "text/plain": [
              "<Figure size 1200x600 with 1 Axes>"
            ],
            "image/png": "[encoded data removed]"
          },
          "metadata": {}
        }
      ]
    },
    {
      "cell_type": "markdown",
      "source": [
        "### Probabilidade"
      ],
      "metadata": {
        "id": "6n2iWkru6MmY"
      }
    },
    {
      "cell_type": "markdown",
      "source": [
        "Agora vamos realizar o calculo de algumas probabilidades."
      ],
      "metadata": {
        "id": "7g-wjVaQ6cqw"
      }
    },
    {
      "cell_type": "markdown",
      "source": [
        "Probabilidade de acertar os seis números em um único bilhete"
      ],
      "metadata": {
        "id": "5nuPlAcZ8c94"
      }
    },
    {
      "cell_type": "code",
      "source": [
        "total_de_numeros = 60\n",
        "probabilidade_seis_numeros = 1 / (total_de_numeros ** 6)\n",
        "\n",
        "print(f\"A probabilidade de acertar os seis números em um único bilhete é de aproximadamente {probabilidade_seis_numeros:.20f}.\")"
      ],
      "metadata": {
        "colab": {
          "base_uri": "https://localhost:8080/"
        },
        "id": "rKFvnUQJ6PVp",
        "outputId": "82a7f580-0c0f-4b56-8bcc-54af40a0b8d2"
      },
      "execution_count": 21,
      "outputs": [
        {
          "output_type": "stream",
          "name": "stdout",
          "text": [
            "A probabilidade de acertar os seis números em um único bilhete é de aproximadamente 0.00000000002143347051.\n"
          ]
        }
      ]
    },
    {
      "cell_type": "markdown",
      "source": [
        "Probabilidade de um concurso ter 3 números pares e 3 ímpares"
      ],
      "metadata": {
        "id": "OZI-D6Me81js"
      }
    },
    {
      "cell_type": "code",
      "source": [
        "from math import comb"
      ],
      "metadata": {
        "id": "dgdfvfko9M4G"
      },
      "execution_count": 22,
      "outputs": []
    },
    {
      "cell_type": "code",
      "source": [
        "total_de_numeros = 60\n",
        "total_de_combinacoes = comb(total_de_numeros, 6)\n",
        "combinacoes_pares_impares = comb(30, 3) * comb(30, 3)\n",
        "\n",
        "probabilidade = combinacoes_pares_impares / total_de_combinacoes\n",
        "print(f\"A probabilidade de um concurso ter 3 números pares e 3 números ímpares é de aproximadamente {probabilidade:.10f}.\")\n"
      ],
      "metadata": {
        "colab": {
          "base_uri": "https://localhost:8080/"
        },
        "id": "dysUsVe09AIA",
        "outputId": "69d0d104-1b22-4fb7-8c21-e373e2925438"
      },
      "execution_count": 23,
      "outputs": [
        {
          "output_type": "stream",
          "name": "stdout",
          "text": [
            "A probabilidade de um concurso ter 3 números pares e 3 números ímpares é de aproximadamente 0.3292514800.\n"
          ]
        }
      ]
    },
    {
      "cell_type": "markdown",
      "source": [
        "Agora vamos descobrir as 6 dezenas com maior probabilidade de serem sorteadas."
      ],
      "metadata": {
        "id": "kXsq3f5c-jov"
      }
    },
    {
      "cell_type": "code",
      "source": [
        "total_sorteios = len(mega_sena)"
      ],
      "metadata": {
        "id": "fssG7joi-iL3"
      },
      "execution_count": 24,
      "outputs": []
    },
    {
      "cell_type": "code",
      "source": [
        "probabilidades_numeros = {}\n",
        "for numero in range(1, 61):\n",
        "    ocorrencias_numero = mega_sena[['Bola1', 'Bola2', 'Bola3', 'Bola4', 'Bola5', 'Bola6']].values.flatten().tolist().count(numero)\n",
        "    probabilidade_numero = ocorrencias_numero / total_sorteios\n",
        "    probabilidades_numeros[numero] = probabilidade_numero"
      ],
      "metadata": {
        "id": "6Q4KiSwZEehI"
      },
      "execution_count": 25,
      "outputs": []
    },
    {
      "cell_type": "code",
      "source": [
        "probabilidades_ordenadas = sorted(probabilidades_numeros.items(), key=lambda x: x[1], reverse=True)"
      ],
      "metadata": {
        "id": "wW-hXD3QEld1"
      },
      "execution_count": 26,
      "outputs": []
    },
    {
      "cell_type": "code",
      "source": [
        "print(\"Os 6 números com maior probabilidade de serem sorteados:\")\n",
        "for numero, probabilidade in probabilidades_ordenadas[:6]:\n",
        "    print(f'Número {numero}: Probabilidade {probabilidade:.4f}')"
      ],
      "metadata": {
        "colab": {
          "base_uri": "https://localhost:8080/"
        },
        "id": "MdhvtEyoEpof",
        "outputId": "5da057e7-5d7f-4175-97fc-d4c51e33f116"
      },
      "execution_count": 27,
      "outputs": [
        {
          "output_type": "stream",
          "name": "stdout",
          "text": [
            "Os 6 números com maior probabilidade de serem sorteados:\n",
            "Número 10: Probabilidade 0.1165\n",
            "Número 53: Probabilidade 0.1147\n",
            "Número 5: Probabilidade 0.1102\n",
            "Número 37: Probabilidade 0.1080\n",
            "Número 33: Probabilidade 0.1076\n",
            "Número 34: Probabilidade 0.1076\n"
          ]
        }
      ]
    },
    {
      "cell_type": "markdown",
      "source": [
        "Calculando a probabilidade de todos os 6 números com maior probabilidade serem sorteados no mesmo sorteio"
      ],
      "metadata": {
        "id": "GNqLlyjZFCQQ"
      }
    },
    {
      "cell_type": "code",
      "source": [
        "probabilidade_combinacao = 1\n",
        "for numero, probabilidade in probabilidades_ordenadas[:6]:\n",
        "    probabilidade_combinacao *= probabilidade\n",
        "\n",
        "print(f'A probabilidade de todos os 6 números com maior probabilidade serem sorteados no mesmo sorteio é: {probabilidade_combinacao:.10f}')\n"
      ],
      "metadata": {
        "colab": {
          "base_uri": "https://localhost:8080/"
        },
        "id": "C3Jp2ezqD836",
        "outputId": "54a062ab-f5e2-4fe7-f48c-389bcd414c0e"
      },
      "execution_count": 28,
      "outputs": [
        {
          "output_type": "stream",
          "name": "stdout",
          "text": [
            "A probabilidade de todos os 6 números com maior probabilidade serem sorteados no mesmo sorteio é: 0.0000018407\n"
          ]
        }
      ]
    },
    {
      "cell_type": "code",
      "source": [
        "import seaborn as sns\n",
        "import matplotlib.pyplot as plt\n",
        "\n",
        "fig, axes = plt.subplots(2, 3, figsize=(12, 8))\n",
        "\n",
        "for i, ax in enumerate(axes.flatten()):\n",
        "    sns.histplot(mega_sena.iloc[:, i + 2], bins=range(1, 62, 1), kde=True, ax=ax)\n",
        "    ax.set_title(f'Bola {i + 1}')\n",
        "    ax.set_xlabel('Número da Bola')\n",
        "    ax.set_ylabel('Frequência')\n",
        "    ax.grid(True)\n",
        "\n",
        "plt.tight_layout()\n",
        "plt.show()"
      ],
      "metadata": {
        "colab": {
          "base_uri": "https://localhost:8080/",
          "height": 807
        },
        "id": "lNYhw4AnIJPh",
        "outputId": "17579c4b-7722-469c-ee45-48a96e1c4016"
      },
      "execution_count": 29,
      "outputs": [
        {
          "output_type": "display_data",
          "data": {
            "text/plain": [
              "<Figure size 1200x800 with 6 Axes>"
            ],
            "image/png": "[encoded data removed]"
          },
          "metadata": {}
        }
      ]
    },
    {
      "cell_type": "markdown",
      "source": [
        "### Teste de hipótese"
      ],
      "metadata": {
        "id": "z5RNRaeEQy69"
      }
    },
    {
      "cell_type": "markdown",
      "source": [
        "Com um valor-p de 0.0001, que é muito menor que o nível de significância padrão de 0.05, rejeitamos a hipótese nula. Isso significa que há evidências estatísticas suficientes para concluir que a média dos números sorteados na Mega Sena não é igual a 30."
      ],
      "metadata": {
        "id": "po8kCOHbW8cd"
      }
    },
    {
      "cell_type": "code",
      "source": [
        "numeros_sorteados = mega_sena[['Bola1', 'Bola2', 'Bola3', 'Bola4', 'Bola5', 'Bola6']].values.flatten()\n",
        "media_teste = 30\n",
        "statistic, p_value = ttest_1samp(numeros_sorteados, media_teste)\n"
      ],
      "metadata": {
        "id": "O0Fwis7CRSna"
      },
      "execution_count": 30,
      "outputs": []
    },
    {
      "cell_type": "code",
      "source": [
        "print(\"Resultados do Teste de Hipótese:\")\n",
        "print(f\"Estatística do Teste: {statistic:.4f}\")\n",
        "print(f\"Valor p: {p_value:.4f}\")"
      ],
      "metadata": {
        "colab": {
          "base_uri": "https://localhost:8080/"
        },
        "id": "9u3VCCMdTv3a",
        "outputId": "3d011071-b783-4163-f3eb-5bcec1038ffa"
      },
      "execution_count": 31,
      "outputs": [
        {
          "output_type": "stream",
          "name": "stdout",
          "text": [
            "Resultados do Teste de Hipótese:\n",
            "Estatística do Teste: 3.8746\n",
            "Valor p: 0.0001\n"
          ]
        }
      ]
    },
    {
      "cell_type": "code",
      "source": [
        "alpha = 0.05\n",
        "if p_value < alpha:\n",
        "    print(\"Rejeitamos a hipótese nula.\")\n",
        "else:\n",
        "    print(\"Não rejeitamos a hipótese nula.\")"
      ],
      "metadata": {
        "colab": {
          "base_uri": "https://localhost:8080/"
        },
        "id": "zSF2O7J9RPnK",
        "outputId": "f855ffa8-93b0-4b66-98f7-be34f9051a1f"
      },
      "execution_count": 32,
      "outputs": [
        {
          "output_type": "stream",
          "name": "stdout",
          "text": [
            "Rejeitamos a hipótese nula.\n"
          ]
        }
      ]
    },
    {
      "cell_type": "markdown",
      "source": [
        "### Modelo de Florestra Aleatória"
      ],
      "metadata": {
        "id": "el9BioYxGh8_"
      }
    },
    {
      "cell_type": "markdown",
      "source": [
        "É importante interpretar esse valor considerando a escala dos dados. Dado que estamos lidando com a previsão de números sorteados na Mega Sena, onde os números têm uma escala relativamente pequena (de 1 a 60), um MSE de 83.93 pode ser considerado alto. Isso sugere que o modelo pode não estar capturando completamente os padrões nos dados ou que o problema de prever os números da Mega Sena é intrinsecamente desafiador devido à sua natureza altamente aleatória. Portanto, mesmo que o MSE seja relativamente baixo, ainda podemos considerar o desempenho do modelo com cautela e continuar procurando maneiras de melhorá-lo."
      ],
      "metadata": {
        "id": "Q9gxu4o3GZoD"
      }
    },
    {
      "cell_type": "code",
      "source": [
        "X = mega_sena[['Bola1', 'Bola2', 'Bola3', 'Bola4', 'Bola5', 'Bola6']].values\n",
        "y = mega_sena[['Bola1', 'Bola2', 'Bola3', 'Bola4', 'Bola5', 'Bola6']].shift(-1).values\n",
        "\n",
        "X = X[:-1]\n",
        "y = y[:-1]"
      ],
      "metadata": {
        "id": "kdnXQ9AmDrMt"
      },
      "execution_count": 33,
      "outputs": []
    },
    {
      "cell_type": "code",
      "source": [
        "X_train, X_test, y_train, y_test = train_test_split(X, y, test_size=0.2, random_state=42)"
      ],
      "metadata": {
        "id": "aN-eiK7_D9Nd"
      },
      "execution_count": 34,
      "outputs": []
    },
    {
      "cell_type": "code",
      "source": [
        "model = RandomForestRegressor(n_estimators=10000, random_state=42)\n",
        "model.fit(X_train, y_train)\n",
        "\n"
      ],
      "metadata": {
        "colab": {
          "base_uri": "https://localhost:8080/",
          "height": 75
        },
        "id": "lF0omeAgEDt_",
        "outputId": "41d5c712-f4d0-4e0c-a573-52051dfca0fb"
      },
      "execution_count": 36,
      "outputs": [
        {
          "output_type": "execute_result",
          "data": {
            "text/plain": [
              "RandomForestRegressor(n_estimators=10000, random_state=42)"
            ],
            "text/html": [
              "<style>#sk-container-id-1 {color: black;background-color: white;}#sk-container-id-1 pre{padding: 0;}#sk-container-id-1 div.sk-toggleable {background-color: white;}#sk-container-id-1 label.sk-toggleable__label {cursor: pointer;display: block;width: 100%;margin-bottom: 0;padding: 0.3em;box-sizing: border-box;text-align: center;}#sk-container-id-1 label.sk-toggleable__label-arrow:before {content: \"▸\";float: left;margin-right: 0.25em;color: #696969;}#sk-container-id-1 label.sk-toggleable__label-arrow:hover:before {color: black;}#sk-container-id-1 div.sk-estimator:hover label.sk-toggleable__label-arrow:before {color: black;}#sk-container-id-1 div.sk-toggleable__content {max-height: 0;max-width: 0;overflow: hidden;text-align: left;background-color: #f0f8ff;}#sk-container-id-1 div.sk-toggleable__content pre {margin: 0.2em;color: black;border-radius: 0.25em;background-color: #f0f8ff;}#sk-container-id-1 input.sk-toggleable__control:checked~div.sk-toggleable__content {max-height: 200px;max-width: 100%;overflow: auto;}#sk-container-id-1 input.sk-toggleable__control:checked~label.sk-toggleable__label-arrow:before {content: \"▾\";}#sk-container-id-1 div.sk-estimator input.sk-toggleable__control:checked~label.sk-toggleable__label {background-color: #d4ebff;}#sk-container-id-1 div.sk-label input.sk-toggleable__control:checked~label.sk-toggleable__label {background-color: #d4ebff;}#sk-container-id-1 input.sk-hidden--visually {border: 0;clip: rect(1px 1px 1px 1px);clip: rect(1px, 1px, 1px, 1px);height: 1px;margin: -1px;overflow: hidden;padding: 0;position: absolute;width: 1px;}#sk-container-id-1 div.sk-estimator {font-family: monospace;background-color: #f0f8ff;border: 1px dotted black;border-radius: 0.25em;box-sizing: border-box;margin-bottom: 0.5em;}#sk-container-id-1 div.sk-estimator:hover {background-color: #d4ebff;}#sk-container-id-1 div.sk-parallel-item::after {content: \"\";width: 100%;border-bottom: 1px solid gray;flex-grow: 1;}#sk-container-id-1 div.sk-label:hover label.sk-toggleable__label {background-color: #d4ebff;}#sk-container-id-1 div.sk-serial::before {content: \"\";position: absolute;border-left: 1px solid gray;box-sizing: border-box;top: 0;bottom: 0;left: 50%;z-index: 0;}#sk-container-id-1 div.sk-serial {display: flex;flex-direction: column;align-items: center;background-color: white;padding-right: 0.2em;padding-left: 0.2em;position: relative;}#sk-container-id-1 div.sk-item {position: relative;z-index: 1;}#sk-container-id-1 div.sk-parallel {display: flex;align-items: stretch;justify-content: center;background-color: white;position: relative;}#sk-container-id-1 div.sk-item::before, #sk-container-id-1 div.sk-parallel-item::before {content: \"\";position: absolute;border-left: 1px solid gray;box-sizing: border-box;top: 0;bottom: 0;left: 50%;z-index: -1;}#sk-container-id-1 div.sk-parallel-item {display: flex;flex-direction: column;z-index: 1;position: relative;background-color: white;}#sk-container-id-1 div.sk-parallel-item:first-child::after {align-self: flex-end;width: 50%;}#sk-container-id-1 div.sk-parallel-item:last-child::after {align-self: flex-start;width: 50%;}#sk-container-id-1 div.sk-parallel-item:only-child::after {width: 0;}#sk-container-id-1 div.sk-dashed-wrapped {border: 1px dashed gray;margin: 0 0.4em 0.5em 0.4em;box-sizing: border-box;padding-bottom: 0.4em;background-color: white;}#sk-container-id-1 div.sk-label label {font-family: monospace;font-weight: bold;display: inline-block;line-height: 1.2em;}#sk-container-id-1 div.sk-label-container {text-align: center;}#sk-container-id-1 div.sk-container {/* jupyter's `normalize.less` sets `[hidden] { display: none; }` but bootstrap.min.css set `[hidden] { display: none !important; }` so we also need the `!important` here to be able to override the default hidden behavior on the sphinx rendered scikit-learn.org. See: https://github.com/scikit-learn/scikit-learn/issues/21755 */display: inline-block !important;position: relative;}#sk-container-id-1 div.sk-text-repr-fallback {display: none;}</style><div id=\"sk-container-id-1\" class=\"sk-top-container\"><div class=\"sk-text-repr-fallback\"><pre>RandomForestRegressor(n_estimators=10000, random_state=42)</pre><b>In a Jupyter environment, please rerun this cell to show the HTML representation or trust the notebook. <br />On GitHub, the HTML representation is unable to render, please try loading this page with nbviewer.org.</b></div><div class=\"sk-container\" hidden><div class=\"sk-item\"><div class=\"sk-estimator sk-toggleable\"><input class=\"sk-toggleable__control sk-hidden--visually\" id=\"sk-estimator-id-1\" type=\"checkbox\" checked><label for=\"sk-estimator-id-1\" class=\"sk-toggleable__label sk-toggleable__label-arrow\">RandomForestRegressor</label><div class=\"sk-toggleable__content\"><pre>RandomForestRegressor(n_estimators=10000, random_state=42)</pre></div></div></div></div></div>"
            ]
          },
          "metadata": {},
          "execution_count": 36
        }
      ]
    },
    {
      "cell_type": "code",
      "source": [
        "previsoes = model.predict(X_test)"
      ],
      "metadata": {
        "id": "wQ2NXYqmEHIL"
      },
      "execution_count": 37,
      "outputs": []
    },
    {
      "cell_type": "code",
      "source": [
        "mse = mean_squared_error(y_test, previsoes)\n",
        "print(f\"Erro médio quadrático (MSE): {mse:.4f}\")"
      ],
      "metadata": {
        "colab": {
          "base_uri": "https://localhost:8080/"
        },
        "id": "Lbr96FBcEK0M",
        "outputId": "9e52b710-4b2d-482e-d4be-27765a6984e5"
      },
      "execution_count": 38,
      "outputs": [
        {
          "output_type": "stream",
          "name": "stdout",
          "text": [
            "Erro médio quadrático (MSE): 83.9329\n"
          ]
        }
      ]
    },
    {
      "cell_type": "code",
      "source": [
        "proximos_numeros = model.predict(ultimos_numeros_sorteados)\n",
        "\n",
        "proximos_numeros_inteiros = np.round(proximos_numeros).astype(int)\n",
        "\n",
        "print(\"Previsão para os próximos números do sorteio:\")\n",
        "print(proximos_numeros_inteiros)\n"
      ],
      "metadata": {
        "colab": {
          "base_uri": "https://localhost:8080/"
        },
        "id": "AwtNhDvwHiFb",
        "outputId": "d7c82572-cc7c-4394-a3b7-42d87ce837a4"
      },
      "execution_count": 40,
      "outputs": [
        {
          "output_type": "stream",
          "name": "stdout",
          "text": [
            "Previsão para os próximos números do sorteio:\n",
            "[[ 7 16 26 34 44 53]]\n"
          ]
        }
      ]
    },
    {
      "cell_type": "markdown",
      "source": [
        "### Quais foram as sequencias mais sorteadas?"
      ],
      "metadata": {
        "id": "ouX8BlWnJORN"
      }
    },
    {
      "cell_type": "markdown",
      "source": [
        "É possível observar que nenhuma sequência foi sorteada mais de uma vez."
      ],
      "metadata": {
        "id": "qYk5wQp1JZIb"
      }
    },
    {
      "cell_type": "code",
      "source": [
        "sequencias = mega_sena[['Bola1', 'Bola2', 'Bola3', 'Bola4', 'Bola5', 'Bola6']].apply(tuple, axis=1)\n",
        "frequencia_sequencias = Counter(sequencias)\n",
        "sequencias_sorteadas = frequencia_sequencias.most_common(10)"
      ],
      "metadata": {
        "id": "ZOPAZWCMIp9d"
      },
      "execution_count": 44,
      "outputs": []
    },
    {
      "cell_type": "code",
      "source": [
        "\n",
        "print(\"As 10 primeiras sequências mais sorteadas:\")\n",
        "for sequencia, frequencia in sequencias_sorteadas:\n",
        "    print(f\"Sequência: {sequencia}, Frequência: {frequencia}\")\n"
      ],
      "metadata": {
        "colab": {
          "base_uri": "https://localhost:8080/"
        },
        "id": "skON29pqIe-B",
        "outputId": "bdf7eba2-c11c-4346-ec1f-876ccec7772e"
      },
      "execution_count": 45,
      "outputs": [
        {
          "output_type": "stream",
          "name": "stdout",
          "text": [
            "As 10 primeiras sequências mais sorteadas:\n",
            "Sequência: (4, 5, 30, 33, 41, 52), Frequência: 1\n",
            "Sequência: (9, 37, 39, 41, 43, 49), Frequência: 1\n",
            "Sequência: (10, 11, 29, 30, 36, 47), Frequência: 1\n",
            "Sequência: (1, 5, 6, 27, 42, 59), Frequência: 1\n",
            "Sequência: (1, 2, 6, 16, 19, 46), Frequência: 1\n",
            "Sequência: (7, 13, 19, 22, 40, 47), Frequência: 1\n",
            "Sequência: (3, 5, 20, 21, 38, 56), Frequência: 1\n",
            "Sequência: (4, 17, 37, 38, 47, 53), Frequência: 1\n",
            "Sequência: (8, 43, 54, 55, 56, 60), Frequência: 1\n",
            "Sequência: (4, 18, 21, 25, 38, 57), Frequência: 1\n"
          ]
        }
      ]
    }
  ]
}